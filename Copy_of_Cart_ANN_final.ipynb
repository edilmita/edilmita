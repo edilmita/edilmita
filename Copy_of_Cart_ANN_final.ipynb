{
  "nbformat": 4,
  "nbformat_minor": 0,
  "metadata": {
    "colab": {
      "name": "Copy of Cart_ANN_final.ipynb",
      "provenance": [],
      "collapsed_sections": [],
      "include_colab_link": true
    },
    "kernelspec": {
      "name": "python3",
      "display_name": "Python 3"
    }
  },
  "cells": [
    {
      "cell_type": "markdown",
      "metadata": {
        "id": "view-in-github",
        "colab_type": "text"
      },
      "source": [
        "<a href=\"https://colab.research.google.com/github/edilmita/edilmita/blob/main/Copy_of_Cart_ANN_final.ipynb\" target=\"_parent\"><img src=\"https://colab.research.google.com/assets/colab-badge.svg\" alt=\"Open In Colab\"/></a>"
      ]
    },
    {
      "cell_type": "code",
      "metadata": {
        "colab": {
          "base_uri": "https://localhost:8080/"
        },
        "id": "fMnD30VLBr-F",
        "outputId": "2dc9c49c-44f7-401a-a445-519573d4e7c3"
      },
      "source": [
        "import numpy as np\n",
        "import pandas as pd\n",
        "import requests\n",
        "from io import StringIO\n",
        "from sklearn.preprocessing import LabelEncoder\n",
        "from sklearn.model_selection import train_test_split\n",
        "from sklearn.metrics import accuracy_score\n",
        "from sklearn.tree import DecisionTreeClassifier\n",
        "from sklearn.metrics import plot_confusion_matrix\n",
        "import matplotlib.pyplot as plt\n",
        "from sklearn.ensemble import RandomForestClassifier\n",
        "from keras.models import Sequential\n",
        "from keras.layers import Dense\n",
        "from sklearn import metrics\n",
        "# import data from your link\n",
        "orig_url='https://drive.google.com/file/d/1pi2WhlrAYHm1t1_RNkbgY2KJEuA-GUwU/view?usp=sharing'\n",
        "\n",
        "file_id = orig_url.split('/')[-2]\n",
        "dwn_url='https://drive.google.com/uc?export=download&id=' + file_id\n",
        "url = requests.get(dwn_url).text\n",
        "csv_raw = StringIO(url)\n",
        "df = pd.read_csv(csv_raw)\n",
        "columns = list(df.columns)\n",
        "columns[0] =\"Approval\"\n",
        "df.columns = columns\n",
        "print(df.head())\n"
      ],
      "execution_count": null,
      "outputs": [
        {
          "output_type": "stream",
          "name": "stdout",
          "text": [
            "  Approval  Debt-to-Income Ratio  FICO Score  Request Amount  Interest\n",
            "0        F                   0.0       397.0          1000.0     450.0\n",
            "1        F                   0.0       403.0           500.0     225.0\n",
            "2        F                   0.0       408.0          1000.0     450.0\n",
            "3        F                   0.0       408.0          2000.0     900.0\n",
            "4        F                   0.0       411.0          5000.0    2250.0\n"
          ]
        }
      ]
    },
    {
      "cell_type": "code",
      "metadata": {
        "colab": {
          "base_uri": "https://localhost:8080/"
        },
        "id": "2-z0rTxHADu9",
        "outputId": "29606e5d-4832-434e-c773-1c2c17eb20ca"
      },
      "source": [
        "df[\"Approval\"].unique()"
      ],
      "execution_count": null,
      "outputs": [
        {
          "output_type": "execute_result",
          "data": {
            "text/plain": [
              "array(['F', 'T'], dtype=object)"
            ]
          },
          "metadata": {},
          "execution_count": 2
        }
      ]
    },
    {
      "cell_type": "code",
      "metadata": {
        "id": "Y54xJIo0CpEB"
      },
      "source": [
        "# Split the dataset into training and testing data\n",
        "from sklearn import preprocessing\n",
        "le = preprocessing.LabelEncoder()\n",
        "y = le.fit_transform(df['Approval'])\n",
        "X= df.drop(['Approval'],axis=1)\n",
        "X_train, X_test, y_train, y_test = train_test_split(\n",
        "    X, y, test_size=0.33, random_state=42)"
      ],
      "execution_count": null,
      "outputs": []
    },
    {
      "cell_type": "code",
      "metadata": {
        "colab": {
          "base_uri": "https://localhost:8080/"
        },
        "id": "pjkO1ftZCwLW",
        "outputId": "a4620fa9-0b00-416d-dd3e-3a49a5203fa7"
      },
      "source": [
        "#train Cart Model\n",
        "from sklearn.metrics import accuracy_score\n",
        "from sklearn.tree import DecisionTreeClassifier\n",
        "clf = DecisionTreeClassifier(random_state=0,max_depth=4)\n",
        "clf.fit(X_train,y_train)"
      ],
      "execution_count": null,
      "outputs": [
        {
          "output_type": "execute_result",
          "data": {
            "text/plain": [
              "DecisionTreeClassifier(max_depth=4, random_state=0)"
            ]
          },
          "metadata": {},
          "execution_count": 4
        }
      ]
    },
    {
      "cell_type": "code",
      "metadata": {
        "colab": {
          "base_uri": "https://localhost:8080/"
        },
        "id": "p2eDv_eZDPDe",
        "outputId": "c586ab1d-b23c-4d26-d9db-e931e2c714b0"
      },
      "source": [
        "\n",
        "print(\"Accuracy of CART on training set %.4f\"%accuracy_score(y_train,clf.predict(X_train)))\n",
        "print(\"Accuracy of CART on test set %.4f\"%accuracy_score(y_test,clf.predict(X_test)))\n"
      ],
      "execution_count": null,
      "outputs": [
        {
          "output_type": "stream",
          "text": [
            "Accuracy of CART on training set 0.8489\n",
            "Accuracy of CART on test set 0.8493\n"
          ],
          "name": "stdout"
        }
      ]
    },
    {
      "cell_type": "code",
      "metadata": {
        "colab": {
          "base_uri": "https://localhost:8080/"
        },
        "id": "XzsbdkjbDKy4",
        "outputId": "48e5207f-9528-4149-936e-6ef2e6a39f87"
      },
      "source": [
        "# Sample predictions\n",
        "print(\"Lets make preditions for the following data\\n\",X_train.iloc[0,:])\n",
        "print(\"Approval predicted by model \",le.inverse_transform(clf.predict(np.array(X_train.iloc[0,:]).reshape(1, -1))))"
      ],
      "execution_count": null,
      "outputs": [
        {
          "output_type": "stream",
          "text": [
            "Lets make preditions for the following data\n",
            " Debt-to-Income Ratio       0.29\n",
            "FICO Score               642.00\n",
            "Request Amount          4000.00\n",
            "Interest                1800.00\n",
            "Name: 52882, dtype: float64\n",
            "Approval predicted by model  ['F']\n"
          ],
          "name": "stdout"
        }
      ]
    },
    {
      "cell_type": "code",
      "metadata": {
        "colab": {
          "base_uri": "https://localhost:8080/"
        },
        "id": "KDIpZhwQ_k_R",
        "outputId": "ccd53dfa-4fea-4a56-bf07-b61f9ce5af0a"
      },
      "source": [
        "!pip install graphviz"
      ],
      "execution_count": null,
      "outputs": [
        {
          "output_type": "stream",
          "text": [
            "Requirement already satisfied: graphviz in /usr/local/lib/python3.6/dist-packages (0.10.1)\n"
          ],
          "name": "stdout"
        }
      ]
    },
    {
      "cell_type": "code",
      "metadata": {
        "id": "CqgiEJRd_IMH"
      },
      "source": [
        "import graphviz \n",
        "dot_data = tree.export_graphviz(clf, out_file=None, \n",
        "                     feature_names=df.columns[1:],  \n",
        "                     class_names=df[\"Approval\"].unique(),  \n",
        "                     filled=True, rounded=True,  \n",
        "                     special_characters=True)  \n",
        "graph = graphviz.Source(dot_data)  "
      ],
      "execution_count": null,
      "outputs": []
    },
    {
      "cell_type": "code",
      "metadata": {
        "colab": {
          "base_uri": "https://localhost:8080/",
          "height": 164
        },
        "id": "5mJKaLsqAymY",
        "outputId": "afc353ed-a738-4189-e352-3b386e2005f7"
      },
      "source": [
        "graph"
      ],
      "execution_count": null,
      "outputs": [
        {
          "output_type": "error",
          "ename": "NameError",
          "evalue": "ignored",
          "traceback": [
            "\u001b[0;31m---------------------------------------------------------------------------\u001b[0m",
            "\u001b[0;31mNameError\u001b[0m                                 Traceback (most recent call last)",
            "\u001b[0;32m<ipython-input-7-e7bca803254d>\u001b[0m in \u001b[0;36m<module>\u001b[0;34m()\u001b[0m\n\u001b[0;32m----> 1\u001b[0;31m \u001b[0mgraph\u001b[0m\u001b[0;34m\u001b[0m\u001b[0;34m\u001b[0m\u001b[0m\n\u001b[0m",
            "\u001b[0;31mNameError\u001b[0m: name 'graph' is not defined"
          ]
        }
      ]
    },
    {
      "cell_type": "markdown",
      "metadata": {
        "id": "mtAPBBy5UOSA"
      },
      "source": [
        ""
      ]
    },
    {
      "cell_type": "code",
      "metadata": {
        "id": "v-ikXWNGUOuE"
      },
      "source": [
        ""
      ],
      "execution_count": null,
      "outputs": []
    },
    {
      "cell_type": "markdown",
      "metadata": {
        "id": "tm8SPTGfUPGP"
      },
      "source": [
        ""
      ]
    },
    {
      "cell_type": "code",
      "metadata": {
        "id": "fWc2xC_RBswn"
      },
      "source": [
        ""
      ],
      "execution_count": null,
      "outputs": []
    }
  ]
}
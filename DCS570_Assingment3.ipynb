{
  "nbformat": 4,
  "nbformat_minor": 0,
  "metadata": {
    "colab": {
      "name": "DCS570-Assingment3.ipynb",
      "provenance": [],
      "history_visible": true,
      "authorship_tag": "ABX9TyOWb6kK8pe7LlcUHFtbDb3B",
      "include_colab_link": true
    },
    "kernelspec": {
      "name": "python3",
      "display_name": "Python 3"
    },
    "language_info": {
      "name": "python"
    }
  },
  "cells": [
    {
      "cell_type": "markdown",
      "metadata": {
        "id": "view-in-github",
        "colab_type": "text"
      },
      "source": [
        "<a href=\"https://colab.research.google.com/github/edilmita/edilmita/blob/main/DCS570_Assingment3.ipynb\" target=\"_parent\"><img src=\"https://colab.research.google.com/assets/colab-badge.svg\" alt=\"Open In Colab\"/></a>"
      ]
    },
    {
      "cell_type": "code",
      "execution_count": null,
      "metadata": {
        "colab": {
          "base_uri": "https://localhost:8080/"
        },
        "id": "Z7Y7UrRFdU4v",
        "outputId": "72c6cccd-a7fc-463d-89d3-5b47b7b4025a"
      },
      "outputs": [
        {
          "output_type": "stream",
          "name": "stdout",
          "text": [
            "Slope [0.58160008]\n"
          ]
        }
      ],
      "source": [
        "#-##-##-##-##-##-##-##-##-#\n",
        "# Load the libraries needed \n",
        "#-##-##-##-##-##-##-##-##-#\n",
        "\n",
        "import pandas as pd\n",
        "import matplotlib.pyplot as plt\n",
        "import numpy as np\n",
        "import seaborn as sns\n",
        "%matplotlib inline\n",
        "import statsmodels.api as sm\n",
        "import warnings\n",
        "warnings.filterwarnings('ignore')\n",
        "\n",
        "#-##-##-##-##-\n",
        "# get the data\n",
        "#-##-##-##-##-\n",
        "\n",
        "mydata = pd.read_csv('/content/examstable.csv')\n",
        "\n",
        "#-##-##-##-##-##-##-#\n",
        "# display the dataset\n",
        "#-##-##-##-##-##-##-#\n",
        "\n",
        "mydata.head()\n",
        "\n",
        "#\t  X\t            Y\n",
        "#0\t72\t          84\n",
        "#1\t50\t          63\n",
        "#2\t81          \t77\n",
        "#3\t74\t          78\n",
        "#4  94            90\n",
        "\n",
        "##-##-##-##-##-##-##-##-##-##-##-##-##-##-##-##-##-##-##-##-##-##-##-##-##-##-##-##-##.\n",
        "#finds the correlation between every column(variable) in the dataframe with one another\n",
        "##-##-##-##-##-##-##-##-##-##-##-##-##-##-##-##-##-##-##-##-##-##-##-##-##-##-##-##-##.\n",
        "\n",
        "mydata.corr()\n",
        "\n",
        "#\t         X\t       Y\n",
        "#X\t1.000000\t0.782809\n",
        "#Y\t0.782809\t1.000000\n",
        "\n",
        "##-##-##-##-##-##-##-##\n",
        "#Creating Scatter Plots \n",
        "##-##-##-##-##-##-##-##\n",
        "\n",
        "plt.scatter(mydata['X'], mydata['Y'])\n",
        "plt.show()\n",
        "\n",
        "\n",
        "##-##-##-##-##-##-##-##-##-##-##-##-##-##-##-##-##-##-#\n",
        "#Return Pearson product-moment correlation coefficients\n",
        "##-##-##-##-##-##-##-##-##-##-##-##-##-##-##-##-##-##-#\n",
        "\n",
        "np.corrcoef(mydata['X'], mydata['Y'])\n",
        "\n",
        "#array([[1.        , 0.78280904],\n",
        "#       [0.78280904, 1.        ]])\n",
        "\n",
        "##-##-##-##-##-##-##-##-##-##-##-##-##-##-##\n",
        "#Calculate a linear least-squares regression \n",
        "##-##-##-##-##-##-##-##-##-##-##-##-##-##-##\n",
        "\n",
        "from scipy.stats import linregress\n",
        "linregress(mydata['X'], mydata['Y'])\n",
        "\n",
        "#LinregressResult(slope=0.5816000773918931, intercept=32.02786108155171, \n",
        "#rvalue=0.7828090360394565, pvalue=0.0026086973856665856, stderr=0.14619816285471848)\n",
        "\n",
        "##-##-##-##-##-##-##-##-##-##-##-##-##-##-##-##-#\n",
        "#Estimated coefficients for the linear regression \n",
        "##-##-##-##-##-##-##-##-##-##-##-##-##-##-##-##-#\n",
        "\n",
        "from sklearn.linear_model import LinearRegression\n",
        "Xarr = np.array(mydata['X']).reshape((-1,1))\n",
        "Yarr = np.array(mydata['Y'])\n",
        "\n",
        "reg = LinearRegression().fit(Xarr,Yarr)\n",
        "rsq_val = reg.score(Xarr,Yarr)\n",
        "\n",
        "print('coefficient of Determination', rsq_val)\n",
        "\n",
        "#coefficient of Determination 0.6127899869050231\n",
        "#coefficient of determination of 60% or more Generally \n",
        "#indicates a good fit for the model.\n",
        "\n",
        "\n",
        "print('intercept:', reg.intercept_)\n",
        "\n",
        "intercept: 32.027861081551706\n",
        "\n",
        "print('Slope', reg.coef_)\n",
        "\n",
        "#Slope [0.58160008]\n",
        "\n",
        "\n"
      ]
    },
    {
      "cell_type": "code",
      "execution_count": null,
      "metadata": {
        "colab": {
          "base_uri": "https://localhost:8080/"
        },
        "outputId": "7283a2cc-7909-4cad-e6f3-8e7b0ba3cf84",
        "id": "ewlFV22tyUps"
      },
      "outputs": [
        {
          "output_type": "execute_result",
          "data": {
            "text/plain": [
              "LinregressResult(slope=0.5816000773918931, intercept=32.02786108155171, rvalue=0.7828090360394565, pvalue=0.0026086973856665856, stderr=0.14619816285471848)"
            ]
          },
          "metadata": {},
          "execution_count": 41
        }
      ],
      "source": [
        "#-##-##-##-##-##-##-##-##-#\n",
        "# Load the libraries needed \n",
        "#-##-##-##-##-##-##-##-##-#\n",
        "\n",
        "import pandas as pd\n",
        "import matplotlib.pyplot as plt\n",
        "import numpy as np\n",
        "import seaborn as sns\n",
        "%matplotlib inline\n",
        "import statsmodels.api as sm\n",
        "import warnings\n",
        "warnings.filterwarnings('ignore')\n",
        "\n",
        "#-##-##-##-##-\n",
        "# get the data\n",
        "#-##-##-##-##-\n",
        "\n",
        "mydata = pd.read_csv('/content/examstable.csv')\n",
        "\n",
        "#-##-##-##-##-##-##-#\n",
        "# display the dataset\n",
        "#-##-##-##-##-##-##-#\n",
        "\n",
        "mydata.head()\n",
        "\n",
        "#\t  X\t              Y\n",
        "#0\t72.0\t          84.0\n",
        "#1\t50.0\t          63.0\n",
        "#2\t81.0          \t77.0\n",
        "#3\t74.0\t          78.0\n",
        "#4  94.0            90.0\n",
        "\n",
        "##-##-##-##-##-##-##-##-##-##-##-##-##-##-##-##-##-##-##-##-##-##-##-##-##-##-##-##-##.\n",
        "#finds the correlation between every column(variable) in the dataframe with one another\n",
        "##-##-##-##-##-##-##-##-##-##-##-##-##-##-##-##-##-##-##-##-##-##-##-##-##-##-##-##-##.\n",
        "\n",
        "mydata.corr()\n",
        "\n",
        "#\t         X\t       Y\n",
        "#X\t1.000000\t0.782809\n",
        "#Y\t0.782809\t1.000000\n",
        "\n",
        "##-##-##-##-##-##-##-##\n",
        "#Creating Scatter Plots \n",
        "##-##-##-##-##-##-##-##\n",
        "\n",
        "plt.scatter(mydata['X'], mydata['Y'])\n",
        "plt.show()\n",
        "\n",
        "##-##-##-##-##-##-##-##-##-##-##-##-##-##-##-##-##-##-#\n",
        "#Return Pearson product-moment correlation coefficients\n",
        "##-##-##-##-##-##-##-##-##-##-##-##-##-##-##-##-##-##-#\n",
        "\n",
        "np.corrcoef(mydata['X'], mydata['Y'])\n",
        "\n",
        "#array([[1.        , 0.78280904],\n",
        "#       [0.78280904, 1.        ]])\n",
        "\n",
        "\n",
        "##-##-##-##-##-##-##-##-##-##-##-##-##-##-##\n",
        "#Calculate a linear least-squares regression \n",
        "##-##-##-##-##-##-##-##-##-##-##-##-##-##-##\n",
        "\n",
        "from scipy.stats import linregress\n",
        "linregress(mydata['X'], mydata['Y'])\n",
        "\n",
        "#LinregressResult(slope=0.5816000773918931, intercept=32.02786108155171, \n",
        "#rvalue=0.7828090360394565, pvalue=0.0026086973856665856, stderr=0.14619816285471848)\n"
      ]
    }
  ]
}
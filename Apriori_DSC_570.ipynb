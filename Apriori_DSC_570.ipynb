{
  "nbformat": 4,
  "nbformat_minor": 0,
  "metadata": {
    "colab": {
      "name": "Apriori-DSC-570.ipynb",
      "provenance": [],
      "collapsed_sections": [],
      "history_visible": true,
      "authorship_tag": "ABX9TyPSU99AnoasNR1DMa2i4QXq",
      "include_colab_link": true
    },
    "kernelspec": {
      "name": "python3",
      "display_name": "Python 3"
    },
    "language_info": {
      "name": "python"
    }
  },
  "cells": [
    {
      "cell_type": "markdown",
      "metadata": {
        "id": "view-in-github",
        "colab_type": "text"
      },
      "source": [
        "<a href=\"https://colab.research.google.com/github/edilmita/edilmita/blob/main/Apriori_DSC_570.ipynb\" target=\"_parent\"><img src=\"https://colab.research.google.com/assets/colab-badge.svg\" alt=\"Open In Colab\"/></a>"
      ]
    },
    {
      "cell_type": "code",
      "execution_count": null,
      "metadata": {
        "colab": {
          "base_uri": "https://localhost:8080/",
          "height": 339
        },
        "id": "ro6ITP6kxQGv",
        "outputId": "0ef0ae9b-6a05-45c0-f1b7-fba5f61839a1"
      },
      "outputs": [
        {
          "output_type": "error",
          "ename": "ModuleNotFoundError",
          "evalue": "ignored",
          "traceback": [
            "\u001b[0;31m---------------------------------------------------------------------------\u001b[0m",
            "\u001b[0;31mModuleNotFoundError\u001b[0m                       Traceback (most recent call last)",
            "\u001b[0;32m<ipython-input-14-5f3645368876>\u001b[0m in \u001b[0;36m<module>\u001b[0;34m()\u001b[0m\n\u001b[1;32m      4\u001b[0m \u001b[0;32mimport\u001b[0m \u001b[0mpandas\u001b[0m \u001b[0;32mas\u001b[0m \u001b[0mpd\u001b[0m \u001b[0;31m# data processing\u001b[0m\u001b[0;34m\u001b[0m\u001b[0;34m\u001b[0m\u001b[0m\n\u001b[1;32m      5\u001b[0m \u001b[0;32mimport\u001b[0m \u001b[0mplotly\u001b[0m\u001b[0;34m.\u001b[0m\u001b[0mexpress\u001b[0m \u001b[0;32mas\u001b[0m \u001b[0mpx\u001b[0m\u001b[0;34m\u001b[0m\u001b[0;34m\u001b[0m\u001b[0m\n\u001b[0;32m----> 6\u001b[0;31m \u001b[0;32mfrom\u001b[0m \u001b[0mapyori\u001b[0m \u001b[0;32mimport\u001b[0m \u001b[0mapriori\u001b[0m\u001b[0;34m\u001b[0m\u001b[0;34m\u001b[0m\u001b[0m\n\u001b[0m",
            "\u001b[0;31mModuleNotFoundError\u001b[0m: No module named 'apyori'",
            "",
            "\u001b[0;31m---------------------------------------------------------------------------\u001b[0;32m\nNOTE: If your import is failing due to a missing package, you can\nmanually install dependencies using either !pip or !apt.\n\nTo view examples of installing some common dependencies, click the\n\"Open Examples\" button below.\n\u001b[0;31m---------------------------------------------------------------------------\u001b[0m\n"
          ],
          "errorDetails": {
            "actions": [
              {
                "action": "open_url",
                "actionText": "Open Examples",
                "url": "/notebooks/snippets/importing_libraries.ipynb"
              }
            ]
          }
        }
      ],
      "source": [
        "\n",
        "\n",
        "import numpy as np # linear algebra\n",
        "import pandas as pd # data processing\n",
        "import plotly.express as px\n",
        "from apyori import apriori"
      ]
    },
    {
      "cell_type": "code",
      "execution_count": null,
      "metadata": {
        "colab": {
          "base_uri": "https://localhost:8080/"
        },
        "id": "Z7Y7UrRFdU4v",
        "outputId": "ad5de87e-3b89-48a8-90d0-912582d1594f"
      },
      "outputs": [
        {
          "output_type": "execute_result",
          "data": {
            "text/plain": [
              "Index(['TID', 'Items Bought'], dtype='object')"
            ]
          },
          "metadata": {},
          "execution_count": 21
        }
      ],
      "source": [
        "#-##-##-##-##-##-##-##-##-#\n",
        "# Load the libraries needed \n",
        "#-##-##-##-##-##-##-##-##-#\n",
        "\n",
        "import pandas as pd\n",
        "import matplotlib.pyplot as plt\n",
        "import numpy as np\n",
        "import seaborn as sns\n",
        "%matplotlib inline\n",
        "import statsmodels.api as sm\n",
        "import warnings\n",
        "warnings.filterwarnings('ignore')\n",
        "\n",
        "#-##-##-##-##-\n",
        "# get the data\n",
        "#-##-##-##-##-\n",
        "\n",
        "mydata = pd.read_csv('/content/Apriori algorithm DSC-570 .csv')\n",
        "\n",
        "#-##-##-##-##-##-##-#\n",
        "# display the dataset\n",
        "#-##-##-##-##-##-##-#\n",
        "\n",
        "mydata.head()\n",
        "\n",
        "#\t  TID\t  Items Bought\n",
        "#0\tT100\t{M,O,N,K,E,Y}\n",
        "#1\tT200\t{D,O,N,K,E,Y}\n",
        "#2\tT300\t{M,A,K,E}\n",
        "#3\tT400\t{M,U,C,K,Y}\n",
        "#4\tT500\t{ C,O,O,K,E,Y}\n",
        "\n",
        "mydata.columns\n",
        "\n",
        "##-##-##-##-##-##-##-##-##-##-##-##-##-##-##-##-##-##-##-##-##-##-##-##-##-##-##-##-##.\n",
        "#Implement the Apriori algorithm in machine learning by using the Python \n",
        "#programming language for the taks\n",
        "##-##-##-##-##-##-##-##-##-##-##-##-##-##-##-##-##-##-##-##-##-##-##-##-##-##-##-##-##.\n",
        "\n",
        "\n",
        "apriori(data=mydata,parameter=list(support=0.60,confidence=0.80))\n",
        "apriori_mydata = list(apriori_mydata)\n",
        "print(len(apriori_mydata))\n",
        "\n",
        "apry\n"
      ]
    },
    {
      "cell_type": "code",
      "execution_count": null,
      "metadata": {
        "id": "gsyhKFSd0dL2"
      },
      "outputs": [],
      "source": [
        "#-##-##-##-##-##-##-##-##-#\n",
        "# Load the libraries needed \n",
        "#-##-##-##-##-##-##-##-##-#\n",
        "\n",
        "import pandas as pd\n",
        "import matplotlib.pyplot as plt\n",
        "import numpy as np\n",
        "import seaborn as sns\n",
        "%matplotlib inline\n",
        "import statsmodels.api as sm\n",
        "import warnings\n",
        "warnings.filterwarnings('ignore')\n",
        "\n",
        "#-##-##-##-##-\n",
        "# get the data\n",
        "#-##-##-##-##-\n",
        "\n",
        "mydata = pd.read_csv('/content/examstable.csv')\n",
        "\n",
        "#-##-##-##-##-##-##-#\n",
        "# display the dataset\n",
        "#-##-##-##-##-##-##-#\n",
        "\n",
        "mydata.head()\n",
        "\n",
        "#\t  X\t            Y\n",
        "#0\t72\t          84\n",
        "#1\t50\t          63\n",
        "#2\t81          \t77\n",
        "#3\t74\t          78\n",
        "#4  94            90\n",
        "\n",
        "##-##-##-##-##-##-##-##-##-##-##-##-##-##-##-##-##-##-##-##-##-##-##-##-##-##-##-##-##.\n",
        "#finds the correlation between every column(variable) in the dataframe with one another\n",
        "##-##-##-##-##-##-##-##-##-##-##-##-##-##-##-##-##-##-##-##-##-##-##-##-##-##-##-##-##.\n",
        "\n",
        "mydata.corr()\n",
        "\n",
        "#\t         X\t       Y\n",
        "#X\t1.000000\t0.782809\n",
        "#Y\t0.782809\t1.000000\n",
        "\n",
        "##-##-##-##-##-##-##-##\n",
        "#Creating Scatter Plots \n",
        "##-##-##-##-##-##-##-##\n",
        "\n",
        "plt.scatter(mydata['X'], mydata['Y'])\n",
        "plt.show()\n",
        "\n",
        "\n",
        "##-##-##-##-##-##-##-##-##-##-##-##-##-##-##-##-##-##-#\n",
        "#Return Pearson product-moment correlation coefficients\n",
        "##-##-##-##-##-##-##-##-##-##-##-##-##-##-##-##-##-##-#\n",
        "\n",
        "np.corrcoef(mydata['X'], mydata['Y'])\n",
        "\n",
        "#array([[1.        , 0.78280904],\n",
        "#       [0.78280904, 1.        ]])\n",
        "\n",
        "##-##-##-##-##-##-##-##-##-##-##-##-##-##-##\n",
        "#Calculate a linear least-squares regression \n",
        "##-##-##-##-##-##-##-##-##-##-##-##-##-##-##\n",
        "\n",
        "from scipy.stats import linregress\n",
        "linregress(mydata['X'], mydata['Y'])\n",
        "\n",
        "#LinregressResult(slope=0.5816000773918931, intercept=32.02786108155171, \n",
        "#rvalue=0.7828090360394565, pvalue=0.0026086973856665856, stderr=0.14619816285471848)\n",
        "\n",
        "##-##-##-##-##-##-##-##-##-##-##-##-##-##-##-##-#\n",
        "#Estimated coefficients for the linear regression \n",
        "##-##-##-##-##-##-##-##-##-##-##-##-##-##-##-##-#\n",
        "\n",
        "from sklearn.linear_model import LinearRegression\n",
        "Xarr = np.array(mydata['X']).reshape((-1,1))\n",
        "Yarr = np.array(mydata['Y'])\n",
        "\n",
        "reg = LinearRegression().fit(Xarr,Yarr)\n",
        "rsq_val = reg.score(Xarr,Yarr)\n",
        "\n",
        "print('coefficient of Determination', rsq_val)\n",
        "\n",
        "#coefficient of Determination 0.6127899869050231\n",
        "#coefficient of determination of 60% or more Generally \n",
        "#indicates a good fit for the model.\n",
        "\n",
        "\n",
        "print('intercept:', reg.intercept_)\n",
        "\n",
        "intercept: 32.027861081551706\n",
        "\n",
        "print('Slope', reg.coef_)\n",
        "\n",
        "#Slope [0.58160008]\n",
        "\n",
        "\n"
      ]
    }
  ]
}
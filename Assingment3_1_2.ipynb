{
  "nbformat": 4,
  "nbformat_minor": 0,
  "metadata": {
    "colab": {
      "name": "Assingment3.1-2.ipynb",
      "provenance": [],
      "private_outputs": true,
      "collapsed_sections": [],
      "authorship_tag": "ABX9TyM6HQvwm4QEKW4PdvfPjPAN",
      "include_colab_link": true
    },
    "kernelspec": {
      "name": "python3",
      "display_name": "Python 3"
    },
    "language_info": {
      "name": "python"
    }
  },
  "cells": [
    {
      "cell_type": "markdown",
      "metadata": {
        "id": "view-in-github",
        "colab_type": "text"
      },
      "source": [
        "<a href=\"https://colab.research.google.com/github/edilmita/edilmita/blob/main/Assingment3_1_2.ipynb\" target=\"_parent\"><img src=\"https://colab.research.google.com/assets/colab-badge.svg\" alt=\"Open In Colab\"/></a>"
      ]
    },
    {
      "cell_type": "code",
      "source": [
        ""
      ],
      "metadata": {
        "id": "EMcPY7w4vJb6"
      },
      "execution_count": null,
      "outputs": []
    },
    {
      "cell_type": "code",
      "execution_count": null,
      "metadata": {
        "id": "XtFnYU_6JCyr",
        "collapsed": true,
        "cellView": "code"
      },
      "outputs": [],
      "source": [
        "#@title Default title text\n",
        "from sklearn import tree\n",
        "import numpy as np\n",
        "import pandas as pd\n",
        "import requests\n",
        "from io import StringIO\n",
        "from sklearn.preprocessing import LabelEncoder\n",
        "from sklearn.model_selection import train_test_split\n",
        "from sklearn.metrics import accuracy_score\n",
        "from sklearn.tree import DecisionTreeClassifier\n",
        "from sklearn.metrics import plot_confusion_matrix\n",
        "import matplotlib.pyplot as plt\n",
        "from sklearn.ensemble import RandomForestClassifier\n",
        "from keras.models import Sequential\n",
        "from keras.layers import Dense\n",
        "from sklearn import metrics\n",
        "# import data from your link\n",
        "orig_url='https://drive.google.com/file/d/1pi2WhlrAYHm1t1_RNkbgY2KJEuA-GUwU/view?usp=sharing'\n",
        "\n",
        "file_id = orig_url.split('/')[-2]\n",
        "dwn_url='https://drive.google.com/uc?export=download&id=' + file_id\n",
        "url = requests.get(dwn_url).text\n",
        "csv_raw = StringIO(url)\n",
        "df = pd.read_csv(csv_raw)\n",
        "columns = list(df.columns)\n",
        "columns[0] =\"FICO\"\n",
        "df.columns = columns\n",
        "print(df.head())\n",
        "\n",
        "# Split the dataset into training and testing data\n",
        "from sklearn import preprocessing\n",
        "le = preprocessing.LabelEncoder()\n",
        "y = le.fit_transform(df['FICO'])\n",
        "X= df.drop(['FICO'],axis=1)\n",
        "X_train, X_test, y_train, y_test = train_test_split(\n",
        "    X, y, test_size=0.33, random_state=42)\n",
        "#train Cart Model\n",
        "from sklearn.metrics import accuracy_score\n",
        "from sklearn.tree import DecisionTreeClassifier\n",
        "clf = DecisionTreeClassifier(random_state=0,max_depth=4)\n",
        "clf.fit(X_train,y_train)\n",
        "\n",
        "## Print the accuracy of model\n",
        "print(\"Accuracy of CART on training set %.4f\"%accuracy_score(y_train,clf.predict(X_train)))\n",
        "print(\"Accuracy of CART on test set %.4f\"%accuracy_score(y_test,clf.predict(X_test)))\n",
        "\n",
        "# Sample predictions\n",
        "print(\"Lets make preditions for the following data\\n\",X_train.iloc[0,:])\n",
        "print(\"Approval predicted by model \",le.inverse_transform(clf.predict(np.array(X_train.iloc[0,:]).reshape(1, -1))))\n",
        "\n",
        "import graphviz \n",
        "dot_data = tree.export_graphviz(clf, out_file=None, \n",
        "                                feature_names=df.columns[1:], \n",
        "                                class_names=df[\"FICO\"].unique(), \n",
        "                                filled=True, rounded=True, \n",
        "                                special_characters=True) \n",
        "graph = graphviz.Source(dot_data)  \n",
        "#The tree  obtained from the above code(Download it from attachments and zoom it for information)\n",
        "\n",
        "\n",
        "\n"
      ]
    },
    {
      "cell_type": "code",
      "source": [
        ""
      ],
      "metadata": {
        "id": "v5HdW-dB07y4"
      },
      "execution_count": null,
      "outputs": []
    },
    {
      "cell_type": "code",
      "source": [
        ""
      ],
      "metadata": {
        "id": "cho_x48nF9q8"
      },
      "execution_count": null,
      "outputs": []
    },
    {
      "cell_type": "code",
      "source": [
        ""
      ],
      "metadata": {
        "id": "S8Zj7Z3wGAL0"
      },
      "execution_count": null,
      "outputs": []
    },
    {
      "cell_type": "markdown",
      "source": [
        ""
      ],
      "metadata": {
        "id": "dkBcOYaG08SD"
      }
    },
    {
      "cell_type": "code",
      "source": [
        ""
      ],
      "metadata": {
        "id": "miFb48Ji0-xR"
      },
      "execution_count": null,
      "outputs": []
    },
    {
      "cell_type": "markdown",
      "source": [
        ""
      ],
      "metadata": {
        "id": "Do7xFpe10_I2"
      }
    },
    {
      "cell_type": "code",
      "source": [
        ""
      ],
      "metadata": {
        "id": "muljSZGa0_oh"
      },
      "execution_count": null,
      "outputs": []
    },
    {
      "cell_type": "markdown",
      "source": [
        "# New Section"
      ],
      "metadata": {
        "id": "Dv0VlRiu0xnx"
      }
    }
  ]
}
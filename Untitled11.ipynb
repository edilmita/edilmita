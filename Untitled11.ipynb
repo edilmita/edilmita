{
  "nbformat": 4,
  "nbformat_minor": 0,
  "metadata": {
    "colab": {
      "name": "Untitled11.ipynb",
      "provenance": [],
      "history_visible": true,
      "authorship_tag": "ABX9TyN/+RxpvAp2GEi5ZvrCBGp4",
      "include_colab_link": true
    },
    "kernelspec": {
      "name": "python3",
      "display_name": "Python 3"
    },
    "language_info": {
      "name": "python"
    }
  },
  "cells": [
    {
      "cell_type": "markdown",
      "metadata": {
        "id": "view-in-github",
        "colab_type": "text"
      },
      "source": [
        "<a href=\"https://colab.research.google.com/github/edilmita/edilmita/blob/main/Untitled11.ipynb\" target=\"_parent\"><img src=\"https://colab.research.google.com/assets/colab-badge.svg\" alt=\"Open In Colab\"/></a>"
      ]
    },
    {
      "cell_type": "code",
      "execution_count": null,
      "metadata": {
        "id": "JHjId0-HBsnP"
      },
      "outputs": [],
      "source": [
        ""
      ]
    },
    {
      "cell_type": "code",
      "source": [
        "#-##-##-##-##-##-##-##-##-#\n",
        "# Load the libraries needed \n",
        "#-##-##-##-##-##-##-##-##-#\n",
        "\n",
        "import pandas as pd\n",
        "import numpy as np\n",
        "import math\n",
        "\n",
        "#-##-##-##-##-\n",
        "# get the data\n",
        "#-##-##-##-##-\n",
        "\n",
        "iris = pd.read_csv('/content/iris.data.csv', header=None)\n",
        "iris.columns = ['sepal_length', 'sepal_width',\n",
        "                'petal_length', 'petal_width', 'Type']\n",
        "\n",
        "#-##-##-##-##-##-##-#\n",
        "# display the dataset\n",
        "#-##-##-##-##-##-##-#\n",
        "\n",
        "iris.head()\n",
        "\n",
        "#sepal_length sepal_width petal_length  petal_width Type\n",
        "#0    5.1         3.5         1.4         0.2       Iris-setosa\n",
        "#1    4.9         3.0         1.4         0.2       Iris-setosa\n",
        "#2    4.7         3.2         1.3         0.2       Iris-setosa\n",
        "#3    4.6         3.1         1.5         0.2       Iris-setosa\n",
        "#4    5.0         3.6         1.4         0.2       Iris-setosa\n",
        "\n",
        "#class Discretization :\n",
        "#A process that transforms quantitative data into qualitative data\n",
        "\tdef\tinit (CIS) :\n",
        "print('Data discretization process started' )\n",
        "def get_new intervals(cls, intervals, chi, min_chi) :\n",
        "#To merge the interval based on minimum chi square value\n",
        "min chi index - np.where(chi min chi) [e] [O] new intervals skip = False done = False for i in       if skip:\n",
        "skip = False continue if i \tmin chi index and not done:\n",
        "t = intervals[i] + intervals[i+l] new_intervals . append( [min(t), max(t)l) skip = True done = True else :\n",
        "new_intervals . append (intervals [ i] ) return new intervals\n",
        "def data, colName, label, max_intervals) :\n",
        "#1.\tCompute the X 2 value for each pair of adjacent intervals\n",
        "#2.\t,Merge the pair of adjacent intervals with the lowest X 2 value\n",
        "#3.\tRepeat O and until X 2 values of all adjacent pairs exceeds a threshold\n",
        "# Getting unique values of input column distinct vals = np. unique (data [colName] )\n",
        "# Getting unique values of output column labels = np. unique (data [ label] )\n",
        "# Initially set the value to zero for all unique output column values empty_count = {l: D for I in labels} intervals = [ distinct_vals[i]] for i in   ) ] white len(intervals) > max intervals: chi for i in\n",
        "# Find chi square for Interval 1 rowl = data [data [colNamel . [01 , intervals[i] [ I l ) ]\n",
        "# Find chi square for Interval 2 row2 = data [data [colNamel . intervals[i+l] [1] ) ] total len(rowl) + len (row2)\n",
        "# Generate Contigency count e = np     for i, v in {\"empty_ count, \"Counter( rowl [label 1)} . items ( ) ] ) count 1 = np.array([v for i, v in {\"empty_ count, \"Counter( row2 [label l )} . items()] ) count total_ - count e + count 1\n",
        "# Find the expected value by the following formula # Expected Value — ( Row Sum * Column Sum ) / Total Sum expected e = count_total•sum(count e)/total expected 1 = count_total•sum(count l)/total chi (count_ß - expected O) • *2/expected e + (count_l expected  1\n",
        "# Store the chi value to find minimum chi value chi\tnp .  ( chi_) chi. append(sum(chi ) ) min chi = min (chi)\n",
        "intervals = cls . chi, min chi) print(' Min chi square value is + str(min_chi)) return intervals\n"
      ],
      "metadata": {
        "id": "HtYlysJBGzQu",
        "colab": {
          "base_uri": "https://localhost:8080/",
          "height": 130
        },
        "outputId": "0730119a-770a-4423-c1b9-21e5ca0d64b7"
      },
      "execution_count": null,
      "outputs": [
        {
          "output_type": "error",
          "ename": "IndentationError",
          "evalue": "ignored",
          "traceback": [
            "\u001b[0;36m  File \u001b[0;32m\"<ipython-input-2-f5380c5271cc>\"\u001b[0;36m, line \u001b[0;32m32\u001b[0m\n\u001b[0;31m    def\tinit (CIS) :\u001b[0m\n\u001b[0m    ^\u001b[0m\n\u001b[0;31mIndentationError\u001b[0m\u001b[0;31m:\u001b[0m unexpected indent\n"
          ]
        }
      ]
    },
    {
      "cell_type": "markdown",
      "source": [
        ""
      ],
      "metadata": {
        "id": "MelJuf3lGx_Y"
      }
    },
    {
      "cell_type": "code",
      "source": [
        ""
      ],
      "metadata": {
        "id": "MOHFU73ZW1Vv"
      },
      "execution_count": null,
      "outputs": []
    },
    {
      "cell_type": "markdown",
      "source": [
        ""
      ],
      "metadata": {
        "id": "QpTnLmMMW10J"
      }
    },
    {
      "cell_type": "code",
      "source": [
        "#\n",
        "\n"
      ],
      "metadata": {
        "id": "nCvIiTI7GnyG"
      },
      "execution_count": null,
      "outputs": []
    }
  ]
}
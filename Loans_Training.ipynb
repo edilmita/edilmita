{
  "nbformat": 4,
  "nbformat_minor": 0,
  "metadata": {
    "kernelspec": {
      "display_name": "Python 3",
      "language": "python",
      "name": "python3"
    },
    "language_info": {
      "codemirror_mode": {
        "name": "ipython",
        "version": 3
      },
      "file_extension": ".py",
      "mimetype": "text/x-python",
      "name": "python",
      "nbconvert_exporter": "python",
      "pygments_lexer": "ipython3",
      "version": "3.8.5"
    },
    "colab": {
      "name": "Loans Training.ipynb",
      "provenance": [],
      "include_colab_link": true
    }
  },
  "cells": [
    {
      "cell_type": "markdown",
      "metadata": {
        "id": "view-in-github",
        "colab_type": "text"
      },
      "source": [
        "<a href=\"https://colab.research.google.com/github/edilmita/edilmita/blob/main/Loans_Training.ipynb\" target=\"_parent\"><img src=\"https://colab.research.google.com/assets/colab-badge.svg\" alt=\"Open In Colab\"/></a>"
      ]
    },
    {
      "cell_type": "code",
      "metadata": {
        "id": "seZk-qvahwrn"
      },
      "source": [
        "import pandas as pd\n",
        "import numpy as np"
      ],
      "execution_count": null,
      "outputs": []
    },
    {
      "cell_type": "code",
      "metadata": {
        "id": "DnaPm2N8hwrq"
      },
      "source": [
        "loans = pd.read_csv('Loans_Training')"
      ],
      "execution_count": null,
      "outputs": []
    },
    {
      "cell_type": "code",
      "metadata": {
        "id": "83mP1B8chwrr",
        "outputId": "ee9a7932-5b2d-48ba-b08b-d3f13ba4d921"
      },
      "source": [
        "loans.head()"
      ],
      "execution_count": null,
      "outputs": [
        {
          "output_type": "execute_result",
          "data": {
            "text/html": [
              "<div>\n",
              "<style scoped>\n",
              "    .dataframe tbody tr th:only-of-type {\n",
              "        vertical-align: middle;\n",
              "    }\n",
              "\n",
              "    .dataframe tbody tr th {\n",
              "        vertical-align: top;\n",
              "    }\n",
              "\n",
              "    .dataframe thead th {\n",
              "        text-align: right;\n",
              "    }\n",
              "</style>\n",
              "<table border=\"1\" class=\"dataframe\">\n",
              "  <thead>\n",
              "    <tr style=\"text-align: right;\">\n",
              "      <th></th>\n",
              "      <th>Approval</th>\n",
              "      <th>Debt-to-Income Ratio</th>\n",
              "      <th>FICO Score</th>\n",
              "      <th>Request Amount</th>\n",
              "      <th>Interest</th>\n",
              "    </tr>\n",
              "  </thead>\n",
              "  <tbody>\n",
              "    <tr>\n",
              "      <th>0</th>\n",
              "      <td>F</td>\n",
              "      <td>0.0</td>\n",
              "      <td>397</td>\n",
              "      <td>1000</td>\n",
              "      <td>450.0</td>\n",
              "    </tr>\n",
              "    <tr>\n",
              "      <th>1</th>\n",
              "      <td>F</td>\n",
              "      <td>0.0</td>\n",
              "      <td>403</td>\n",
              "      <td>500</td>\n",
              "      <td>225.0</td>\n",
              "    </tr>\n",
              "    <tr>\n",
              "      <th>2</th>\n",
              "      <td>F</td>\n",
              "      <td>0.0</td>\n",
              "      <td>408</td>\n",
              "      <td>1000</td>\n",
              "      <td>450.0</td>\n",
              "    </tr>\n",
              "    <tr>\n",
              "      <th>3</th>\n",
              "      <td>F</td>\n",
              "      <td>0.0</td>\n",
              "      <td>408</td>\n",
              "      <td>2000</td>\n",
              "      <td>900.0</td>\n",
              "    </tr>\n",
              "    <tr>\n",
              "      <th>4</th>\n",
              "      <td>F</td>\n",
              "      <td>0.0</td>\n",
              "      <td>411</td>\n",
              "      <td>5000</td>\n",
              "      <td>2250.0</td>\n",
              "    </tr>\n",
              "  </tbody>\n",
              "</table>\n",
              "</div>"
            ],
            "text/plain": [
              "  Approval  Debt-to-Income Ratio  FICO Score  Request Amount  Interest\n",
              "0        F                   0.0         397            1000     450.0\n",
              "1        F                   0.0         403             500     225.0\n",
              "2        F                   0.0         408            1000     450.0\n",
              "3        F                   0.0         408            2000     900.0\n",
              "4        F                   0.0         411            5000    2250.0"
            ]
          },
          "metadata": {
            "tags": []
          },
          "execution_count": 34
        }
      ]
    },
    {
      "cell_type": "code",
      "metadata": {
        "id": "xhPps97Phwrt"
      },
      "source": [
        "# this function will convert our F and T to 0 and 1 respectively\n",
        "def convert(x):\n",
        "    if x == 'F':\n",
        "        return 0\n",
        "    if x == 'T':\n",
        "        return 1"
      ],
      "execution_count": null,
      "outputs": []
    },
    {
      "cell_type": "code",
      "metadata": {
        "scrolled": true,
        "id": "wEY_37sFhwru"
      },
      "source": [
        "# to override the column\n",
        "loans['Approval'] = loans['Approval'].apply(convert)"
      ],
      "execution_count": null,
      "outputs": []
    },
    {
      "cell_type": "code",
      "metadata": {
        "id": "fY93cUzthwru",
        "outputId": "a85fef7b-fc63-4002-f9c2-9fe7838bd50a"
      },
      "source": [
        "loans.head()"
      ],
      "execution_count": null,
      "outputs": [
        {
          "output_type": "execute_result",
          "data": {
            "text/html": [
              "<div>\n",
              "<style scoped>\n",
              "    .dataframe tbody tr th:only-of-type {\n",
              "        vertical-align: middle;\n",
              "    }\n",
              "\n",
              "    .dataframe tbody tr th {\n",
              "        vertical-align: top;\n",
              "    }\n",
              "\n",
              "    .dataframe thead th {\n",
              "        text-align: right;\n",
              "    }\n",
              "</style>\n",
              "<table border=\"1\" class=\"dataframe\">\n",
              "  <thead>\n",
              "    <tr style=\"text-align: right;\">\n",
              "      <th></th>\n",
              "      <th>Approval</th>\n",
              "      <th>Debt-to-Income Ratio</th>\n",
              "      <th>FICO Score</th>\n",
              "      <th>Request Amount</th>\n",
              "      <th>Interest</th>\n",
              "    </tr>\n",
              "  </thead>\n",
              "  <tbody>\n",
              "    <tr>\n",
              "      <th>0</th>\n",
              "      <td>0</td>\n",
              "      <td>0.0</td>\n",
              "      <td>397</td>\n",
              "      <td>1000</td>\n",
              "      <td>450.0</td>\n",
              "    </tr>\n",
              "    <tr>\n",
              "      <th>1</th>\n",
              "      <td>0</td>\n",
              "      <td>0.0</td>\n",
              "      <td>403</td>\n",
              "      <td>500</td>\n",
              "      <td>225.0</td>\n",
              "    </tr>\n",
              "    <tr>\n",
              "      <th>2</th>\n",
              "      <td>0</td>\n",
              "      <td>0.0</td>\n",
              "      <td>408</td>\n",
              "      <td>1000</td>\n",
              "      <td>450.0</td>\n",
              "    </tr>\n",
              "    <tr>\n",
              "      <th>3</th>\n",
              "      <td>0</td>\n",
              "      <td>0.0</td>\n",
              "      <td>408</td>\n",
              "      <td>2000</td>\n",
              "      <td>900.0</td>\n",
              "    </tr>\n",
              "    <tr>\n",
              "      <th>4</th>\n",
              "      <td>0</td>\n",
              "      <td>0.0</td>\n",
              "      <td>411</td>\n",
              "      <td>5000</td>\n",
              "      <td>2250.0</td>\n",
              "    </tr>\n",
              "  </tbody>\n",
              "</table>\n",
              "</div>"
            ],
            "text/plain": [
              "   Approval  Debt-to-Income Ratio  FICO Score  Request Amount  Interest\n",
              "0         0                   0.0         397            1000     450.0\n",
              "1         0                   0.0         403             500     225.0\n",
              "2         0                   0.0         408            1000     450.0\n",
              "3         0                   0.0         408            2000     900.0\n",
              "4         0                   0.0         411            5000    2250.0"
            ]
          },
          "metadata": {
            "tags": []
          },
          "execution_count": 37
        }
      ]
    },
    {
      "cell_type": "markdown",
      "metadata": {
        "id": "LZpxOVGPhwrv"
      },
      "source": [
        "**Train and Test Split as Preparation to doing a C5 model**"
      ]
    },
    {
      "cell_type": "code",
      "metadata": {
        "id": "IDKm1DCphwrv"
      },
      "source": [
        "from sklearn.model_selection import train_test_split"
      ],
      "execution_count": null,
      "outputs": []
    },
    {
      "cell_type": "code",
      "metadata": {
        "id": "CqAnEID4hwrv"
      },
      "source": [
        "# dropping the columns we do not need to predict Approval\n",
        "X = loans.drop(['Approval','Interest'],axis=1)\n",
        "y = loans['Approval']\n",
        "X_train, X_test, y_train, y_test = train_test_split(X, y, test_size=0.30, random_state=101)"
      ],
      "execution_count": null,
      "outputs": []
    },
    {
      "cell_type": "code",
      "metadata": {
        "id": "4Q8vOw3nhwrw"
      },
      "source": [
        "from sklearn.tree import DecisionTreeClassifier"
      ],
      "execution_count": null,
      "outputs": []
    },
    {
      "cell_type": "markdown",
      "metadata": {
        "id": "aCE50xAfhwrw"
      },
      "source": [
        "**Creating an instance of our model**"
      ]
    },
    {
      "cell_type": "code",
      "metadata": {
        "id": "3I96MkLshwrw"
      },
      "source": [
        "dtree = DecisionTreeClassifier()"
      ],
      "execution_count": null,
      "outputs": []
    },
    {
      "cell_type": "code",
      "metadata": {
        "id": "tbWkOJdShwrx",
        "outputId": "50c1c596-8481-42ff-864e-353be852dbf2"
      },
      "source": [
        "#fitting it to our data\n",
        "dtree.fit(X_train,y_train)"
      ],
      "execution_count": null,
      "outputs": [
        {
          "output_type": "execute_result",
          "data": {
            "text/plain": [
              "DecisionTreeClassifier()"
            ]
          },
          "metadata": {
            "tags": []
          },
          "execution_count": 42
        }
      ]
    },
    {
      "cell_type": "markdown",
      "metadata": {
        "id": "VIji9tQhhwrx"
      },
      "source": [
        "**Let's test how our model is performing by using matrix and the classification report**"
      ]
    },
    {
      "cell_type": "code",
      "metadata": {
        "id": "AYjqFcLchwrx"
      },
      "source": [
        "#let's try to test our model by making it predict the approval\n",
        "predictions = dtree.predict(X_test)"
      ],
      "execution_count": null,
      "outputs": []
    },
    {
      "cell_type": "code",
      "metadata": {
        "id": "ujVSe_l6hwry"
      },
      "source": [
        "from sklearn.metrics import classification_report,confusion_matrix"
      ],
      "execution_count": null,
      "outputs": []
    },
    {
      "cell_type": "code",
      "metadata": {
        "id": "tAuQ5wn3hwry",
        "outputId": "affcb8d7-a3e1-44a5-e4f5-0f8818ff80ca"
      },
      "source": [
        "print(classification_report(y_test,predictions))\n",
        "\n",
        "# our model is doing quiet well and can be improved to have more precision and recall"
      ],
      "execution_count": null,
      "outputs": [
        {
          "output_type": "stream",
          "text": [
            "              precision    recall  f1-score   support\n",
            "\n",
            "           0       0.77      0.80      0.78     22512\n",
            "           1       0.79      0.76      0.77     22579\n",
            "\n",
            "    accuracy                           0.78     45091\n",
            "   macro avg       0.78      0.78      0.78     45091\n",
            "weighted avg       0.78      0.78      0.78     45091\n",
            "\n"
          ],
          "name": "stdout"
        }
      ]
    },
    {
      "cell_type": "code",
      "metadata": {
        "scrolled": true,
        "id": "grO1roAVhwry",
        "outputId": "33e5a693-c1c8-4b2e-ef2f-38ce76886fd9"
      },
      "source": [
        "print(confusion_matrix(y_test,predictions))\n",
        "\n",
        "# we have correctly predicted 17933 True Positives and 17094 True Negatives\n",
        "# True positives are where the model predicted that it is 1 when in fact it is really 1\n",
        "# and same goes for True negatives but with 0\n",
        "\n",
        "# 5485 are false negatives and 4579 are false positives"
      ],
      "execution_count": null,
      "outputs": [
        {
          "output_type": "stream",
          "text": [
            "[[17933  4579]\n",
            " [ 5485 17094]]\n"
          ],
          "name": "stdout"
        }
      ]
    },
    {
      "cell_type": "markdown",
      "metadata": {
        "id": "wUWrqJvThwrz"
      },
      "source": [
        "**The picture below is a guide to the matrix**"
      ]
    },
    {
      "cell_type": "code",
      "metadata": {
        "id": "X-0gE4Quhwrz",
        "outputId": "a1eac75b-2586-452d-f4f5-ec62f3cd4ffb"
      },
      "source": [
        "# it's the same with the data-driven cost matrix\n",
        "from IPython.display import Image\n",
        "url = 'https://glassboxmedicine.files.wordpress.com/2019/02/confusion-matrix.png'\n",
        "Image(url,width=500, height=500)"
      ],
      "execution_count": null,
      "outputs": [
        {
          "output_type": "execute_result",
          "data": {
            "image/png": "[encoded data removed]",
            "text/plain": [
              "<IPython.core.display.Image object>"
            ]
          },
          "metadata": {
            "tags": [],
            "image/png": {
              "height": 500,
              "width": 500
            }
          },
          "execution_count": 50
        }
      ]
    },
    {
      "cell_type": "code",
      "metadata": {
        "id": "52NfCpZdhwrz"
      },
      "source": [
        ""
      ],
      "execution_count": null,
      "outputs": []
    }
  ]
}
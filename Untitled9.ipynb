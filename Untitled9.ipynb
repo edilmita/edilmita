{
  "nbformat": 4,
  "nbformat_minor": 0,
  "metadata": {
    "colab": {
      "name": "Untitled9.ipynb",
      "provenance": [],
      "authorship_tag": "ABX9TyMD4U7iyIW/TN0obsqA9g46",
      "include_colab_link": true
    },
    "kernelspec": {
      "name": "python3",
      "display_name": "Python 3"
    },
    "language_info": {
      "name": "python"
    }
  },
  "cells": [
    {
      "cell_type": "markdown",
      "metadata": {
        "id": "view-in-github",
        "colab_type": "text"
      },
      "source": [
        "<a href=\"https://colab.research.google.com/github/edilmita/edilmita/blob/main/Untitled9.ipynb\" target=\"_parent\"><img src=\"https://colab.research.google.com/assets/colab-badge.svg\" alt=\"Open In Colab\"/></a>"
      ]
    },
    {
      "cell_type": "code",
      "execution_count": null,
      "metadata": {
        "colab": {
          "base_uri": "https://localhost:8080/"
        },
        "id": "Iy5fK1I16l-X",
        "outputId": "57920f17-f57e-4cf7-867e-318a75a60953"
      },
      "outputs": [
        {
          "output_type": "stream",
          "name": "stdout",
          "text": [
            "Sex      1                 2               Total\n",
            "Educ     1    2   3   4    1    2    3   4      \n",
            "Death                                           \n",
            "0        0    0   0   0    0  148  107  53   308\n",
            "1      227  111  62  76  216    0    0   0   692\n",
            "Total  227  111  62  76  216  148  107  53  1000\n",
            "Error rate: 0.43\n",
            "Accuracy: 0.57\n"
          ]
        },
        {
          "output_type": "stream",
          "name": "stderr",
          "text": [
            "/usr/local/lib/python3.7/dist-packages/sklearn/utils/validation.py:976: FutureWarning: Arrays of bytes/strings is being converted to decimal numbers if dtype='numeric'. This behavior is deprecated in 0.24 and will be removed in 1.1 (renaming of 0.26). Please convert your data to numeric values explicitly instead.\n",
            "  estimator=estimator,\n",
            "/usr/local/lib/python3.7/dist-packages/sklearn/base.py:566: FutureWarning: Arrays of bytes/strings is being converted to decimal numbers if dtype='numeric'. This behavior is deprecated in 0.24 and will be removed in 1.1 (renaming of 0.26). Please convert your data to numeric values explicitly instead.\n",
            "  X = check_array(X, **check_params)\n"
          ]
        }
      ],
      "source": [
        "import pandas as pd\n",
        "from sklearn.naive_bayes import GaussianNB\n",
        "# read data\n",
        "training_data = pd.read_csv(\"framingham_nb_training.csv\", dtype={'Sex': 'category', \"Educ\": 'category', \"Death\": 'category'})\n",
        "test_data = pd.read_csv(\"framingham_nb_test.csv\", dtype={'Sex': 'category', \"Educ\": 'category', \"Death\": 'category'})\n",
        "# define y column\n",
        "y_column = \"Death\"\n",
        "# separate x and y\n",
        "y_train = training_data[y_column]\n",
        "x_train = training_data.drop(columns=[y_column])\n",
        "y_test = test_data[y_column]\n",
        "x_test = test_data.drop(columns=[y_column])\n",
        "# create and fit model\n",
        "model = GaussianNB()\n",
        "y_pred = model.fit(x_train, y_train).predict(x_test)\n",
        "# create the crosstab using y_pred and row (0 and 1), margins is the total for each column and row\n",
        "print(pd.crosstab(y_pred, [x_test['Sex'], x_test['Educ']], margins=True, margins_name='Total',\n",
        "    rownames=['Death'], colnames=['Sex', 'Educ']))\n",
        "\n",
        "\n",
        "# count the number of errors\n",
        "y_test = list(y_test)\n",
        "count = 0\n",
        "for i in range(len(y_test)):\n",
        "    if(y_test[i] != y_pred[i]):\n",
        "        count += 1\n",
        "# calculate error rate and accuracy and display them\n",
        "error_rate = round(count/len(y_pred), 2)\n",
        "accuracy = round(1 - error_rate, 2)\n",
        "print(\"Error rate:\", error_rate)\n",
        "print(\"Accuracy:\", accuracy)\n",
        "\n",
        "\n",
        "\n",
        "\n",
        "\n"
      ]
    }
  ]
}
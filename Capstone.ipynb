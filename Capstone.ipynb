{
  "nbformat": 4,
  "nbformat_minor": 0,
  "metadata": {
    "colab": {
      "provenance": [],
      "collapsed_sections": [],
      "authorship_tag": "ABX9TyOcN4D19RlA+yDfh7P2DzH3",
      "include_colab_link": true
    },
    "kernelspec": {
      "name": "python3",
      "display_name": "Python 3"
    },
    "language_info": {
      "name": "python"
    }
  },
  "cells": [
    {
      "cell_type": "markdown",
      "metadata": {
        "id": "view-in-github",
        "colab_type": "text"
      },
      "source": [
        "<a href=\"https://colab.research.google.com/github/edilmita/edilmita/blob/main/Capstone.ipynb\" target=\"_parent\"><img src=\"https://colab.research.google.com/assets/colab-badge.svg\" alt=\"Open In Colab\"/></a>"
      ]
    },
    {
      "cell_type": "code",
      "execution_count": null,
      "metadata": {
        "id": "tSYm-P_Ikf7f"
      },
      "outputs": [],
      "source": [
        "import numpy as np\n",
        "import pandas as pd\n",
        "import matplotlib.pyplot as plt\n",
        "import matplotlib.patches as mpatches\n",
        "import seaborn as sns\n",
        "sns.set(style=\"darkgrid\")\n",
        "from time import time\n",
        "from collections import Counter\n",
        "import seaborn as sb\n",
        "from sklearn.cluster import KMeans\n",
        "from sklearn.preprocessing import StandardScaler\n",
        "from sklearn.decomposition import PCA \n",
        "from sklearn.metrics import *   \n",
        "from sklearn.ensemble import RandomForestClassifier \n",
        "from sklearn.linear_model import LogisticRegression\n",
        "from sklearn.model_selection import train_test_split\n",
        "from sklearn.neighbors import KernelDensity\n",
        "from sklearn.model_selection import GridSearchCV\n",
        "\n",
        "import warnings\n",
        "warnings.simplefilter(action='ignore', category=FutureWarning)\n",
        "\n",
        "from sklearn.preprocessing import MinMaxScaler\n",
        "from sklearn.preprocessing import OneHotEncoder\n",
        "\n",
        "# Import 'GridSearchCV', 'make_scorer', and any other necessary libraries\n",
        "from sklearn.model_selection import GridSearchCV\n",
        "from sklearn.metrics import make_scorer\n",
        "from sklearn.metrics import fbeta_score\n",
        "from sklearn.metrics import accuracy_score\n",
        "\n",
        "from sklearn.cluster import KMeans\n",
        "from sklearn.preprocessing import StandardScaler\n",
        "from sklearn.decomposition import PCA  \n",
        "\n",
        "import os\n",
        "import sys\n",
        "%matplotlib inline\n",
        "\n",
        "import warnings\n",
        "warnings.simplefilter(action='ignore', category=FutureWarning)\n",
        "\n",
        "# Pretty display for notebooks\n",
        "%matplotlib inline"
      ]
    },
    {
      "cell_type": "code",
      "source": [],
      "metadata": {
        "id": "23iZkfO-cajd"
      },
      "execution_count": null,
      "outputs": []
    },
    {
      "cell_type": "code",
      "source": [
        "mydata = pd.read_csv('/content/annual_generation_state.csv')\n",
        "mydata.head(5)"
      ],
      "metadata": {
        "colab": {
          "base_uri": "https://localhost:8080/",
          "height": 206
        },
        "id": "ajWOPCSoravK",
        "outputId": "1eccb0fe-7920-4405-fb16-efc0ca592128"
      },
      "execution_count": null,
      "outputs": [
        {
          "output_type": "execute_result",
          "data": {
            "text/plain": [
              "   YEAR     STATE                         TYPE OF PRODUCER   ENERGY SOURCE  \\\n",
              "0  2001  US-TOTAL            Total Electric Power Industry  Pumped Storage   \n",
              "1  2002  US-TOTAL            Total Electric Power Industry  Pumped Storage   \n",
              "2  2003  US-TOTAL            Total Electric Power Industry  Pumped Storage   \n",
              "3  2004  US-TOTAL            Total Electric Power Industry  Pumped Storage   \n",
              "4  2001  US-TOTAL  Electric Generators, Electric Utilities  Pumped Storage   \n",
              "\n",
              "   GENERATION (Megawatthours)  \n",
              "0                    -8823445  \n",
              "1                    -8742928  \n",
              "2                    -8535065  \n",
              "3                    -8488210  \n",
              "4                    -7704482  "
            ],
            "text/html": [
              "\n",
              "  <div id=\"df-d42ce7af-0522-4ea8-ba45-0f46d4d4edee\">\n",
              "    <div class=\"colab-df-container\">\n",
              "      <div>\n",
              "<style scoped>\n",
              "    .dataframe tbody tr th:only-of-type {\n",
              "        vertical-align: middle;\n",
              "    }\n",
              "\n",
              "    .dataframe tbody tr th {\n",
              "        vertical-align: top;\n",
              "    }\n",
              "\n",
              "    .dataframe thead th {\n",
              "        text-align: right;\n",
              "    }\n",
              "</style>\n",
              "<table border=\"1\" class=\"dataframe\">\n",
              "  <thead>\n",
              "    <tr style=\"text-align: right;\">\n",
              "      <th></th>\n",
              "      <th>YEAR</th>\n",
              "      <th>STATE</th>\n",
              "      <th>TYPE OF PRODUCER</th>\n",
              "      <th>ENERGY SOURCE</th>\n",
              "      <th>GENERATION (Megawatthours)</th>\n",
              "    </tr>\n",
              "  </thead>\n",
              "  <tbody>\n",
              "    <tr>\n",
              "      <th>0</th>\n",
              "      <td>2001</td>\n",
              "      <td>US-TOTAL</td>\n",
              "      <td>Total Electric Power Industry</td>\n",
              "      <td>Pumped Storage</td>\n",
              "      <td>-8823445</td>\n",
              "    </tr>\n",
              "    <tr>\n",
              "      <th>1</th>\n",
              "      <td>2002</td>\n",
              "      <td>US-TOTAL</td>\n",
              "      <td>Total Electric Power Industry</td>\n",
              "      <td>Pumped Storage</td>\n",
              "      <td>-8742928</td>\n",
              "    </tr>\n",
              "    <tr>\n",
              "      <th>2</th>\n",
              "      <td>2003</td>\n",
              "      <td>US-TOTAL</td>\n",
              "      <td>Total Electric Power Industry</td>\n",
              "      <td>Pumped Storage</td>\n",
              "      <td>-8535065</td>\n",
              "    </tr>\n",
              "    <tr>\n",
              "      <th>3</th>\n",
              "      <td>2004</td>\n",
              "      <td>US-TOTAL</td>\n",
              "      <td>Total Electric Power Industry</td>\n",
              "      <td>Pumped Storage</td>\n",
              "      <td>-8488210</td>\n",
              "    </tr>\n",
              "    <tr>\n",
              "      <th>4</th>\n",
              "      <td>2001</td>\n",
              "      <td>US-TOTAL</td>\n",
              "      <td>Electric Generators, Electric Utilities</td>\n",
              "      <td>Pumped Storage</td>\n",
              "      <td>-7704482</td>\n",
              "    </tr>\n",
              "  </tbody>\n",
              "</table>\n",
              "</div>\n",
              "      <button class=\"colab-df-convert\" onclick=\"convertToInteractive('df-d42ce7af-0522-4ea8-ba45-0f46d4d4edee')\"\n",
              "              title=\"Convert this dataframe to an interactive table.\"\n",
              "              style=\"display:none;\">\n",
              "        \n",
              "  <svg xmlns=\"http://www.w3.org/2000/svg\" height=\"24px\"viewBox=\"0 0 24 24\"\n",
              "       width=\"24px\">\n",
              "    <path d=\"M0 0h24v24H0V0z\" fill=\"none\"/>\n",
              "    <path d=\"M18.56 5.44l.94 2.06.94-2.06 2.06-.94-2.06-.94-.94-2.06-.94 2.06-2.06.94zm-11 1L8.5 8.5l.94-2.06 2.06-.94-2.06-.94L8.5 2.5l-.94 2.06-2.06.94zm10 10l.94 2.06.94-2.06 2.06-.94-2.06-.94-.94-2.06-.94 2.06-2.06.94z\"/><path d=\"M17.41 7.96l-1.37-1.37c-.4-.4-.92-.59-1.43-.59-.52 0-1.04.2-1.43.59L10.3 9.45l-7.72 7.72c-.78.78-.78 2.05 0 2.83L4 21.41c.39.39.9.59 1.41.59.51 0 1.02-.2 1.41-.59l7.78-7.78 2.81-2.81c.8-.78.8-2.07 0-2.86zM5.41 20L4 18.59l7.72-7.72 1.47 1.35L5.41 20z\"/>\n",
              "  </svg>\n",
              "      </button>\n",
              "      \n",
              "  <style>\n",
              "    .colab-df-container {\n",
              "      display:flex;\n",
              "      flex-wrap:wrap;\n",
              "      gap: 12px;\n",
              "    }\n",
              "\n",
              "    .colab-df-convert {\n",
              "      background-color: #E8F0FE;\n",
              "      border: none;\n",
              "      border-radius: 50%;\n",
              "      cursor: pointer;\n",
              "      display: none;\n",
              "      fill: #1967D2;\n",
              "      height: 32px;\n",
              "      padding: 0 0 0 0;\n",
              "      width: 32px;\n",
              "    }\n",
              "\n",
              "    .colab-df-convert:hover {\n",
              "      background-color: #E2EBFA;\n",
              "      box-shadow: 0px 1px 2px rgba(60, 64, 67, 0.3), 0px 1px 3px 1px rgba(60, 64, 67, 0.15);\n",
              "      fill: #174EA6;\n",
              "    }\n",
              "\n",
              "    [theme=dark] .colab-df-convert {\n",
              "      background-color: #3B4455;\n",
              "      fill: #D2E3FC;\n",
              "    }\n",
              "\n",
              "    [theme=dark] .colab-df-convert:hover {\n",
              "      background-color: #434B5C;\n",
              "      box-shadow: 0px 1px 3px 1px rgba(0, 0, 0, 0.15);\n",
              "      filter: drop-shadow(0px 1px 2px rgba(0, 0, 0, 0.3));\n",
              "      fill: #FFFFFF;\n",
              "    }\n",
              "  </style>\n",
              "\n",
              "      <script>\n",
              "        const buttonEl =\n",
              "          document.querySelector('#df-d42ce7af-0522-4ea8-ba45-0f46d4d4edee button.colab-df-convert');\n",
              "        buttonEl.style.display =\n",
              "          google.colab.kernel.accessAllowed ? 'block' : 'none';\n",
              "\n",
              "        async function convertToInteractive(key) {\n",
              "          const element = document.querySelector('#df-d42ce7af-0522-4ea8-ba45-0f46d4d4edee');\n",
              "          const dataTable =\n",
              "            await google.colab.kernel.invokeFunction('convertToInteractive',\n",
              "                                                     [key], {});\n",
              "          if (!dataTable) return;\n",
              "\n",
              "          const docLinkHtml = 'Like what you see? Visit the ' +\n",
              "            '<a target=\"_blank\" href=https://colab.research.google.com/notebooks/data_table.ipynb>data table notebook</a>'\n",
              "            + ' to learn more about interactive tables.';\n",
              "          element.innerHTML = '';\n",
              "          dataTable['output_type'] = 'display_data';\n",
              "          await google.colab.output.renderOutput(dataTable, element);\n",
              "          const docLink = document.createElement('div');\n",
              "          docLink.innerHTML = docLinkHtml;\n",
              "          element.appendChild(docLink);\n",
              "        }\n",
              "      </script>\n",
              "    </div>\n",
              "  </div>\n",
              "  "
            ]
          },
          "metadata": {},
          "execution_count": 17
        }
      ]
    },
    {
      "cell_type": "code",
      "source": [
        "mydata.shape"
      ],
      "metadata": {
        "colab": {
          "base_uri": "https://localhost:8080/"
        },
        "id": "Ikp5EHvluXKw",
        "outputId": "f600341a-a956-4059-8253-a8bc1950dbb6"
      },
      "execution_count": null,
      "outputs": [
        {
          "output_type": "execute_result",
          "data": {
            "text/plain": [
              "(55886, 5)"
            ]
          },
          "metadata": {},
          "execution_count": 18
        }
      ]
    },
    {
      "cell_type": "code",
      "source": [
        "mydata.head(50)\n"
      ],
      "metadata": {
        "colab": {
          "base_uri": "https://localhost:8080/",
          "height": 1000
        },
        "id": "9-k4h1ZXHkCG",
        "outputId": "caa03554-ba27-4c32-cf56-19c84b7a992d"
      },
      "execution_count": null,
      "outputs": [
        {
          "output_type": "execute_result",
          "data": {
            "text/plain": [
              "    YEAR     STATE                         TYPE OF PRODUCER   ENERGY SOURCE  \\\n",
              "0   2001  US-TOTAL            Total Electric Power Industry  Pumped Storage   \n",
              "1   2002  US-TOTAL            Total Electric Power Industry  Pumped Storage   \n",
              "2   2003  US-TOTAL            Total Electric Power Industry  Pumped Storage   \n",
              "3   2004  US-TOTAL            Total Electric Power Industry  Pumped Storage   \n",
              "4   2001  US-TOTAL  Electric Generators, Electric Utilities  Pumped Storage   \n",
              "5   2003  US-TOTAL  Electric Generators, Electric Utilities  Pumped Storage   \n",
              "6   2004  US-TOTAL  Electric Generators, Electric Utilities  Pumped Storage   \n",
              "7   2002  US-TOTAL  Electric Generators, Electric Utilities  Pumped Storage   \n",
              "8   2007  US-TOTAL            Total Electric Power Industry  Pumped Storage   \n",
              "9   2016  US-Total            Total Electric Power Industry  Pumped Storage   \n",
              "10  2006  US-TOTAL            Total Electric Power Industry  Pumped Storage   \n",
              "11  2005  US-TOTAL            Total Electric Power Industry  Pumped Storage   \n",
              "12  2017  US-Total            Total Electric Power Industry  Pumped Storage   \n",
              "13  2011  US-TOTAL            Total Electric Power Industry  Pumped Storage   \n",
              "14  2008  US-TOTAL            Total Electric Power Industry  Pumped Storage   \n",
              "15  2014  US-Total            Total Electric Power Industry  Pumped Storage   \n",
              "16  1999  US-TOTAL            Total Electric Power Industry  Pumped Storage   \n",
              "17  1999  US-TOTAL  Electric Generators, Electric Utilities  Pumped Storage   \n",
              "18  2018  US-Total            Total Electric Power Industry  Pumped Storage   \n",
              "19  2016  US-Total  Electric Generators, Electric Utilities  Pumped Storage   \n",
              "20  2000  US-TOTAL            Total Electric Power Industry  Pumped Storage   \n",
              "21  2010  US-TOTAL            Total Electric Power Industry  Pumped Storage   \n",
              "22  2011  US-TOTAL  Electric Generators, Electric Utilities  Pumped Storage   \n",
              "23  2017  US-Total  Electric Generators, Electric Utilities  Pumped Storage   \n",
              "24  2005  US-TOTAL  Electric Generators, Electric Utilities  Pumped Storage   \n",
              "25  2007  US-TOTAL  Electric Generators, Electric Utilities  Pumped Storage   \n",
              "26  2020  US-Total            Total Electric Power Industry  Pumped Storage   \n",
              "27  2006  US-TOTAL  Electric Generators, Electric Utilities  Pumped Storage   \n",
              "28  2019  US-Total            Total Electric Power Industry  Pumped Storage   \n",
              "29  2014  US-Total  Electric Generators, Electric Utilities  Pumped Storage   \n",
              "30  2008  US-TOTAL  Electric Generators, Electric Utilities  Pumped Storage   \n",
              "31  2015  US-Total            Total Electric Power Industry  Pumped Storage   \n",
              "32  2000  US-TOTAL  Electric Generators, Electric Utilities  Pumped Storage   \n",
              "33  2012  US-Total            Total Electric Power Industry  Pumped Storage   \n",
              "34  2018  US-Total  Electric Generators, Electric Utilities  Pumped Storage   \n",
              "35  2013  US-Total            Total Electric Power Industry  Pumped Storage   \n",
              "36  2009  US-TOTAL            Total Electric Power Industry  Pumped Storage   \n",
              "37  1991  US-TOTAL            Total Electric Power Industry  Pumped Storage   \n",
              "38  1991  US-TOTAL  Electric Generators, Electric Utilities  Pumped Storage   \n",
              "39  1998  US-TOTAL            Total Electric Power Industry  Pumped Storage   \n",
              "40  2010  US-TOTAL  Electric Generators, Electric Utilities  Pumped Storage   \n",
              "41  1998  US-TOTAL  Electric Generators, Electric Utilities  Pumped Storage   \n",
              "42  2020  US-Total  Electric Generators, Electric Utilities  Pumped Storage   \n",
              "43  2019  US-Total  Electric Generators, Electric Utilities  Pumped Storage   \n",
              "44  2012  US-Total  Electric Generators, Electric Utilities  Pumped Storage   \n",
              "45  1992  US-TOTAL            Total Electric Power Industry  Pumped Storage   \n",
              "46  1992  US-TOTAL  Electric Generators, Electric Utilities  Pumped Storage   \n",
              "47  2015  US-Total  Electric Generators, Electric Utilities  Pumped Storage   \n",
              "48  1997  US-TOTAL            Total Electric Power Industry  Pumped Storage   \n",
              "49  1997  US-TOTAL  Electric Generators, Electric Utilities  Pumped Storage   \n",
              "\n",
              "    GENERATION (Megawatthours)  \n",
              "0                     -8823445  \n",
              "1                     -8742928  \n",
              "2                     -8535065  \n",
              "3                     -8488210  \n",
              "4                     -7704482  \n",
              "5                     -7531885  \n",
              "6                     -7526206  \n",
              "7                     -7433807  \n",
              "8                     -6896352  \n",
              "9                     -6686127  \n",
              "10                    -6557842  \n",
              "11                    -6557788  \n",
              "12                    -6494548  \n",
              "13                    -6420516  \n",
              "14                    -6288062  \n",
              "15                    -6173548  \n",
              "16                    -6096899  \n",
              "17                    -5982372  \n",
              "18                    -5904539  \n",
              "19                    -5629428  \n",
              "20                    -5538860  \n",
              "21                    -5501132  \n",
              "22                    -5492129  \n",
              "23                    -5448039  \n",
              "24                    -5383451  \n",
              "25                    -5327595  \n",
              "26                    -5321205  \n",
              "27                    -5280767  \n",
              "28                    -5260744  \n",
              "29                    -5143519  \n",
              "30                    -5142691  \n",
              "31                    -5091488  \n",
              "32                    -4959564  \n",
              "33                    -4950496  \n",
              "34                    -4785084  \n",
              "35                    -4681033  \n",
              "36                    -4627345  \n",
              "37                    -4541435  \n",
              "38                    -4541435  \n",
              "39                    -4467280  \n",
              "40                    -4465776  \n",
              "41                    -4441208  \n",
              "42                    -4325763  \n",
              "43                    -4260892  \n",
              "44                    -4202300  \n",
              "45                    -4176582  \n",
              "46                    -4176582  \n",
              "47                    -4104973  \n",
              "48                    -4039905  \n",
              "49                    -4039905  "
            ],
            "text/html": [
              "\n",
              "  <div id=\"df-2a153372-6d44-4f79-a22c-5c189424c141\">\n",
              "    <div class=\"colab-df-container\">\n",
              "      <div>\n",
              "<style scoped>\n",
              "    .dataframe tbody tr th:only-of-type {\n",
              "        vertical-align: middle;\n",
              "    }\n",
              "\n",
              "    .dataframe tbody tr th {\n",
              "        vertical-align: top;\n",
              "    }\n",
              "\n",
              "    .dataframe thead th {\n",
              "        text-align: right;\n",
              "    }\n",
              "</style>\n",
              "<table border=\"1\" class=\"dataframe\">\n",
              "  <thead>\n",
              "    <tr style=\"text-align: right;\">\n",
              "      <th></th>\n",
              "      <th>YEAR</th>\n",
              "      <th>STATE</th>\n",
              "      <th>TYPE OF PRODUCER</th>\n",
              "      <th>ENERGY SOURCE</th>\n",
              "      <th>GENERATION (Megawatthours)</th>\n",
              "    </tr>\n",
              "  </thead>\n",
              "  <tbody>\n",
              "    <tr>\n",
              "      <th>0</th>\n",
              "      <td>2001</td>\n",
              "      <td>US-TOTAL</td>\n",
              "      <td>Total Electric Power Industry</td>\n",
              "      <td>Pumped Storage</td>\n",
              "      <td>-8823445</td>\n",
              "    </tr>\n",
              "    <tr>\n",
              "      <th>1</th>\n",
              "      <td>2002</td>\n",
              "      <td>US-TOTAL</td>\n",
              "      <td>Total Electric Power Industry</td>\n",
              "      <td>Pumped Storage</td>\n",
              "      <td>-8742928</td>\n",
              "    </tr>\n",
              "    <tr>\n",
              "      <th>2</th>\n",
              "      <td>2003</td>\n",
              "      <td>US-TOTAL</td>\n",
              "      <td>Total Electric Power Industry</td>\n",
              "      <td>Pumped Storage</td>\n",
              "      <td>-8535065</td>\n",
              "    </tr>\n",
              "    <tr>\n",
              "      <th>3</th>\n",
              "      <td>2004</td>\n",
              "      <td>US-TOTAL</td>\n",
              "      <td>Total Electric Power Industry</td>\n",
              "      <td>Pumped Storage</td>\n",
              "      <td>-8488210</td>\n",
              "    </tr>\n",
              "    <tr>\n",
              "      <th>4</th>\n",
              "      <td>2001</td>\n",
              "      <td>US-TOTAL</td>\n",
              "      <td>Electric Generators, Electric Utilities</td>\n",
              "      <td>Pumped Storage</td>\n",
              "      <td>-7704482</td>\n",
              "    </tr>\n",
              "    <tr>\n",
              "      <th>5</th>\n",
              "      <td>2003</td>\n",
              "      <td>US-TOTAL</td>\n",
              "      <td>Electric Generators, Electric Utilities</td>\n",
              "      <td>Pumped Storage</td>\n",
              "      <td>-7531885</td>\n",
              "    </tr>\n",
              "    <tr>\n",
              "      <th>6</th>\n",
              "      <td>2004</td>\n",
              "      <td>US-TOTAL</td>\n",
              "      <td>Electric Generators, Electric Utilities</td>\n",
              "      <td>Pumped Storage</td>\n",
              "      <td>-7526206</td>\n",
              "    </tr>\n",
              "    <tr>\n",
              "      <th>7</th>\n",
              "      <td>2002</td>\n",
              "      <td>US-TOTAL</td>\n",
              "      <td>Electric Generators, Electric Utilities</td>\n",
              "      <td>Pumped Storage</td>\n",
              "      <td>-7433807</td>\n",
              "    </tr>\n",
              "    <tr>\n",
              "      <th>8</th>\n",
              "      <td>2007</td>\n",
              "      <td>US-TOTAL</td>\n",
              "      <td>Total Electric Power Industry</td>\n",
              "      <td>Pumped Storage</td>\n",
              "      <td>-6896352</td>\n",
              "    </tr>\n",
              "    <tr>\n",
              "      <th>9</th>\n",
              "      <td>2016</td>\n",
              "      <td>US-Total</td>\n",
              "      <td>Total Electric Power Industry</td>\n",
              "      <td>Pumped Storage</td>\n",
              "      <td>-6686127</td>\n",
              "    </tr>\n",
              "    <tr>\n",
              "      <th>10</th>\n",
              "      <td>2006</td>\n",
              "      <td>US-TOTAL</td>\n",
              "      <td>Total Electric Power Industry</td>\n",
              "      <td>Pumped Storage</td>\n",
              "      <td>-6557842</td>\n",
              "    </tr>\n",
              "    <tr>\n",
              "      <th>11</th>\n",
              "      <td>2005</td>\n",
              "      <td>US-TOTAL</td>\n",
              "      <td>Total Electric Power Industry</td>\n",
              "      <td>Pumped Storage</td>\n",
              "      <td>-6557788</td>\n",
              "    </tr>\n",
              "    <tr>\n",
              "      <th>12</th>\n",
              "      <td>2017</td>\n",
              "      <td>US-Total</td>\n",
              "      <td>Total Electric Power Industry</td>\n",
              "      <td>Pumped Storage</td>\n",
              "      <td>-6494548</td>\n",
              "    </tr>\n",
              "    <tr>\n",
              "      <th>13</th>\n",
              "      <td>2011</td>\n",
              "      <td>US-TOTAL</td>\n",
              "      <td>Total Electric Power Industry</td>\n",
              "      <td>Pumped Storage</td>\n",
              "      <td>-6420516</td>\n",
              "    </tr>\n",
              "    <tr>\n",
              "      <th>14</th>\n",
              "      <td>2008</td>\n",
              "      <td>US-TOTAL</td>\n",
              "      <td>Total Electric Power Industry</td>\n",
              "      <td>Pumped Storage</td>\n",
              "      <td>-6288062</td>\n",
              "    </tr>\n",
              "    <tr>\n",
              "      <th>15</th>\n",
              "      <td>2014</td>\n",
              "      <td>US-Total</td>\n",
              "      <td>Total Electric Power Industry</td>\n",
              "      <td>Pumped Storage</td>\n",
              "      <td>-6173548</td>\n",
              "    </tr>\n",
              "    <tr>\n",
              "      <th>16</th>\n",
              "      <td>1999</td>\n",
              "      <td>US-TOTAL</td>\n",
              "      <td>Total Electric Power Industry</td>\n",
              "      <td>Pumped Storage</td>\n",
              "      <td>-6096899</td>\n",
              "    </tr>\n",
              "    <tr>\n",
              "      <th>17</th>\n",
              "      <td>1999</td>\n",
              "      <td>US-TOTAL</td>\n",
              "      <td>Electric Generators, Electric Utilities</td>\n",
              "      <td>Pumped Storage</td>\n",
              "      <td>-5982372</td>\n",
              "    </tr>\n",
              "    <tr>\n",
              "      <th>18</th>\n",
              "      <td>2018</td>\n",
              "      <td>US-Total</td>\n",
              "      <td>Total Electric Power Industry</td>\n",
              "      <td>Pumped Storage</td>\n",
              "      <td>-5904539</td>\n",
              "    </tr>\n",
              "    <tr>\n",
              "      <th>19</th>\n",
              "      <td>2016</td>\n",
              "      <td>US-Total</td>\n",
              "      <td>Electric Generators, Electric Utilities</td>\n",
              "      <td>Pumped Storage</td>\n",
              "      <td>-5629428</td>\n",
              "    </tr>\n",
              "    <tr>\n",
              "      <th>20</th>\n",
              "      <td>2000</td>\n",
              "      <td>US-TOTAL</td>\n",
              "      <td>Total Electric Power Industry</td>\n",
              "      <td>Pumped Storage</td>\n",
              "      <td>-5538860</td>\n",
              "    </tr>\n",
              "    <tr>\n",
              "      <th>21</th>\n",
              "      <td>2010</td>\n",
              "      <td>US-TOTAL</td>\n",
              "      <td>Total Electric Power Industry</td>\n",
              "      <td>Pumped Storage</td>\n",
              "      <td>-5501132</td>\n",
              "    </tr>\n",
              "    <tr>\n",
              "      <th>22</th>\n",
              "      <td>2011</td>\n",
              "      <td>US-TOTAL</td>\n",
              "      <td>Electric Generators, Electric Utilities</td>\n",
              "      <td>Pumped Storage</td>\n",
              "      <td>-5492129</td>\n",
              "    </tr>\n",
              "    <tr>\n",
              "      <th>23</th>\n",
              "      <td>2017</td>\n",
              "      <td>US-Total</td>\n",
              "      <td>Electric Generators, Electric Utilities</td>\n",
              "      <td>Pumped Storage</td>\n",
              "      <td>-5448039</td>\n",
              "    </tr>\n",
              "    <tr>\n",
              "      <th>24</th>\n",
              "      <td>2005</td>\n",
              "      <td>US-TOTAL</td>\n",
              "      <td>Electric Generators, Electric Utilities</td>\n",
              "      <td>Pumped Storage</td>\n",
              "      <td>-5383451</td>\n",
              "    </tr>\n",
              "    <tr>\n",
              "      <th>25</th>\n",
              "      <td>2007</td>\n",
              "      <td>US-TOTAL</td>\n",
              "      <td>Electric Generators, Electric Utilities</td>\n",
              "      <td>Pumped Storage</td>\n",
              "      <td>-5327595</td>\n",
              "    </tr>\n",
              "    <tr>\n",
              "      <th>26</th>\n",
              "      <td>2020</td>\n",
              "      <td>US-Total</td>\n",
              "      <td>Total Electric Power Industry</td>\n",
              "      <td>Pumped Storage</td>\n",
              "      <td>-5321205</td>\n",
              "    </tr>\n",
              "    <tr>\n",
              "      <th>27</th>\n",
              "      <td>2006</td>\n",
              "      <td>US-TOTAL</td>\n",
              "      <td>Electric Generators, Electric Utilities</td>\n",
              "      <td>Pumped Storage</td>\n",
              "      <td>-5280767</td>\n",
              "    </tr>\n",
              "    <tr>\n",
              "      <th>28</th>\n",
              "      <td>2019</td>\n",
              "      <td>US-Total</td>\n",
              "      <td>Total Electric Power Industry</td>\n",
              "      <td>Pumped Storage</td>\n",
              "      <td>-5260744</td>\n",
              "    </tr>\n",
              "    <tr>\n",
              "      <th>29</th>\n",
              "      <td>2014</td>\n",
              "      <td>US-Total</td>\n",
              "      <td>Electric Generators, Electric Utilities</td>\n",
              "      <td>Pumped Storage</td>\n",
              "      <td>-5143519</td>\n",
              "    </tr>\n",
              "    <tr>\n",
              "      <th>30</th>\n",
              "      <td>2008</td>\n",
              "      <td>US-TOTAL</td>\n",
              "      <td>Electric Generators, Electric Utilities</td>\n",
              "      <td>Pumped Storage</td>\n",
              "      <td>-5142691</td>\n",
              "    </tr>\n",
              "    <tr>\n",
              "      <th>31</th>\n",
              "      <td>2015</td>\n",
              "      <td>US-Total</td>\n",
              "      <td>Total Electric Power Industry</td>\n",
              "      <td>Pumped Storage</td>\n",
              "      <td>-5091488</td>\n",
              "    </tr>\n",
              "    <tr>\n",
              "      <th>32</th>\n",
              "      <td>2000</td>\n",
              "      <td>US-TOTAL</td>\n",
              "      <td>Electric Generators, Electric Utilities</td>\n",
              "      <td>Pumped Storage</td>\n",
              "      <td>-4959564</td>\n",
              "    </tr>\n",
              "    <tr>\n",
              "      <th>33</th>\n",
              "      <td>2012</td>\n",
              "      <td>US-Total</td>\n",
              "      <td>Total Electric Power Industry</td>\n",
              "      <td>Pumped Storage</td>\n",
              "      <td>-4950496</td>\n",
              "    </tr>\n",
              "    <tr>\n",
              "      <th>34</th>\n",
              "      <td>2018</td>\n",
              "      <td>US-Total</td>\n",
              "      <td>Electric Generators, Electric Utilities</td>\n",
              "      <td>Pumped Storage</td>\n",
              "      <td>-4785084</td>\n",
              "    </tr>\n",
              "    <tr>\n",
              "      <th>35</th>\n",
              "      <td>2013</td>\n",
              "      <td>US-Total</td>\n",
              "      <td>Total Electric Power Industry</td>\n",
              "      <td>Pumped Storage</td>\n",
              "      <td>-4681033</td>\n",
              "    </tr>\n",
              "    <tr>\n",
              "      <th>36</th>\n",
              "      <td>2009</td>\n",
              "      <td>US-TOTAL</td>\n",
              "      <td>Total Electric Power Industry</td>\n",
              "      <td>Pumped Storage</td>\n",
              "      <td>-4627345</td>\n",
              "    </tr>\n",
              "    <tr>\n",
              "      <th>37</th>\n",
              "      <td>1991</td>\n",
              "      <td>US-TOTAL</td>\n",
              "      <td>Total Electric Power Industry</td>\n",
              "      <td>Pumped Storage</td>\n",
              "      <td>-4541435</td>\n",
              "    </tr>\n",
              "    <tr>\n",
              "      <th>38</th>\n",
              "      <td>1991</td>\n",
              "      <td>US-TOTAL</td>\n",
              "      <td>Electric Generators, Electric Utilities</td>\n",
              "      <td>Pumped Storage</td>\n",
              "      <td>-4541435</td>\n",
              "    </tr>\n",
              "    <tr>\n",
              "      <th>39</th>\n",
              "      <td>1998</td>\n",
              "      <td>US-TOTAL</td>\n",
              "      <td>Total Electric Power Industry</td>\n",
              "      <td>Pumped Storage</td>\n",
              "      <td>-4467280</td>\n",
              "    </tr>\n",
              "    <tr>\n",
              "      <th>40</th>\n",
              "      <td>2010</td>\n",
              "      <td>US-TOTAL</td>\n",
              "      <td>Electric Generators, Electric Utilities</td>\n",
              "      <td>Pumped Storage</td>\n",
              "      <td>-4465776</td>\n",
              "    </tr>\n",
              "    <tr>\n",
              "      <th>41</th>\n",
              "      <td>1998</td>\n",
              "      <td>US-TOTAL</td>\n",
              "      <td>Electric Generators, Electric Utilities</td>\n",
              "      <td>Pumped Storage</td>\n",
              "      <td>-4441208</td>\n",
              "    </tr>\n",
              "    <tr>\n",
              "      <th>42</th>\n",
              "      <td>2020</td>\n",
              "      <td>US-Total</td>\n",
              "      <td>Electric Generators, Electric Utilities</td>\n",
              "      <td>Pumped Storage</td>\n",
              "      <td>-4325763</td>\n",
              "    </tr>\n",
              "    <tr>\n",
              "      <th>43</th>\n",
              "      <td>2019</td>\n",
              "      <td>US-Total</td>\n",
              "      <td>Electric Generators, Electric Utilities</td>\n",
              "      <td>Pumped Storage</td>\n",
              "      <td>-4260892</td>\n",
              "    </tr>\n",
              "    <tr>\n",
              "      <th>44</th>\n",
              "      <td>2012</td>\n",
              "      <td>US-Total</td>\n",
              "      <td>Electric Generators, Electric Utilities</td>\n",
              "      <td>Pumped Storage</td>\n",
              "      <td>-4202300</td>\n",
              "    </tr>\n",
              "    <tr>\n",
              "      <th>45</th>\n",
              "      <td>1992</td>\n",
              "      <td>US-TOTAL</td>\n",
              "      <td>Total Electric Power Industry</td>\n",
              "      <td>Pumped Storage</td>\n",
              "      <td>-4176582</td>\n",
              "    </tr>\n",
              "    <tr>\n",
              "      <th>46</th>\n",
              "      <td>1992</td>\n",
              "      <td>US-TOTAL</td>\n",
              "      <td>Electric Generators, Electric Utilities</td>\n",
              "      <td>Pumped Storage</td>\n",
              "      <td>-4176582</td>\n",
              "    </tr>\n",
              "    <tr>\n",
              "      <th>47</th>\n",
              "      <td>2015</td>\n",
              "      <td>US-Total</td>\n",
              "      <td>Electric Generators, Electric Utilities</td>\n",
              "      <td>Pumped Storage</td>\n",
              "      <td>-4104973</td>\n",
              "    </tr>\n",
              "    <tr>\n",
              "      <th>48</th>\n",
              "      <td>1997</td>\n",
              "      <td>US-TOTAL</td>\n",
              "      <td>Total Electric Power Industry</td>\n",
              "      <td>Pumped Storage</td>\n",
              "      <td>-4039905</td>\n",
              "    </tr>\n",
              "    <tr>\n",
              "      <th>49</th>\n",
              "      <td>1997</td>\n",
              "      <td>US-TOTAL</td>\n",
              "      <td>Electric Generators, Electric Utilities</td>\n",
              "      <td>Pumped Storage</td>\n",
              "      <td>-4039905</td>\n",
              "    </tr>\n",
              "  </tbody>\n",
              "</table>\n",
              "</div>\n",
              "      <button class=\"colab-df-convert\" onclick=\"convertToInteractive('df-2a153372-6d44-4f79-a22c-5c189424c141')\"\n",
              "              title=\"Convert this dataframe to an interactive table.\"\n",
              "              style=\"display:none;\">\n",
              "        \n",
              "  <svg xmlns=\"http://www.w3.org/2000/svg\" height=\"24px\"viewBox=\"0 0 24 24\"\n",
              "       width=\"24px\">\n",
              "    <path d=\"M0 0h24v24H0V0z\" fill=\"none\"/>\n",
              "    <path d=\"M18.56 5.44l.94 2.06.94-2.06 2.06-.94-2.06-.94-.94-2.06-.94 2.06-2.06.94zm-11 1L8.5 8.5l.94-2.06 2.06-.94-2.06-.94L8.5 2.5l-.94 2.06-2.06.94zm10 10l.94 2.06.94-2.06 2.06-.94-2.06-.94-.94-2.06-.94 2.06-2.06.94z\"/><path d=\"M17.41 7.96l-1.37-1.37c-.4-.4-.92-.59-1.43-.59-.52 0-1.04.2-1.43.59L10.3 9.45l-7.72 7.72c-.78.78-.78 2.05 0 2.83L4 21.41c.39.39.9.59 1.41.59.51 0 1.02-.2 1.41-.59l7.78-7.78 2.81-2.81c.8-.78.8-2.07 0-2.86zM5.41 20L4 18.59l7.72-7.72 1.47 1.35L5.41 20z\"/>\n",
              "  </svg>\n",
              "      </button>\n",
              "      \n",
              "  <style>\n",
              "    .colab-df-container {\n",
              "      display:flex;\n",
              "      flex-wrap:wrap;\n",
              "      gap: 12px;\n",
              "    }\n",
              "\n",
              "    .colab-df-convert {\n",
              "      background-color: #E8F0FE;\n",
              "      border: none;\n",
              "      border-radius: 50%;\n",
              "      cursor: pointer;\n",
              "      display: none;\n",
              "      fill: #1967D2;\n",
              "      height: 32px;\n",
              "      padding: 0 0 0 0;\n",
              "      width: 32px;\n",
              "    }\n",
              "\n",
              "    .colab-df-convert:hover {\n",
              "      background-color: #E2EBFA;\n",
              "      box-shadow: 0px 1px 2px rgba(60, 64, 67, 0.3), 0px 1px 3px 1px rgba(60, 64, 67, 0.15);\n",
              "      fill: #174EA6;\n",
              "    }\n",
              "\n",
              "    [theme=dark] .colab-df-convert {\n",
              "      background-color: #3B4455;\n",
              "      fill: #D2E3FC;\n",
              "    }\n",
              "\n",
              "    [theme=dark] .colab-df-convert:hover {\n",
              "      background-color: #434B5C;\n",
              "      box-shadow: 0px 1px 3px 1px rgba(0, 0, 0, 0.15);\n",
              "      filter: drop-shadow(0px 1px 2px rgba(0, 0, 0, 0.3));\n",
              "      fill: #FFFFFF;\n",
              "    }\n",
              "  </style>\n",
              "\n",
              "      <script>\n",
              "        const buttonEl =\n",
              "          document.querySelector('#df-2a153372-6d44-4f79-a22c-5c189424c141 button.colab-df-convert');\n",
              "        buttonEl.style.display =\n",
              "          google.colab.kernel.accessAllowed ? 'block' : 'none';\n",
              "\n",
              "        async function convertToInteractive(key) {\n",
              "          const element = document.querySelector('#df-2a153372-6d44-4f79-a22c-5c189424c141');\n",
              "          const dataTable =\n",
              "            await google.colab.kernel.invokeFunction('convertToInteractive',\n",
              "                                                     [key], {});\n",
              "          if (!dataTable) return;\n",
              "\n",
              "          const docLinkHtml = 'Like what you see? Visit the ' +\n",
              "            '<a target=\"_blank\" href=https://colab.research.google.com/notebooks/data_table.ipynb>data table notebook</a>'\n",
              "            + ' to learn more about interactive tables.';\n",
              "          element.innerHTML = '';\n",
              "          dataTable['output_type'] = 'display_data';\n",
              "          await google.colab.output.renderOutput(dataTable, element);\n",
              "          const docLink = document.createElement('div');\n",
              "          docLink.innerHTML = docLinkHtml;\n",
              "          element.appendChild(docLink);\n",
              "        }\n",
              "      </script>\n",
              "    </div>\n",
              "  </div>\n",
              "  "
            ]
          },
          "metadata": {},
          "execution_count": 19
        }
      ]
    },
    {
      "cell_type": "markdown",
      "source": [
        "Convert object data type into int64"
      ],
      "metadata": {
        "id": "7-sFmRAJm_f9"
      }
    },
    {
      "cell_type": "code",
      "source": [
        "print(mydata.info())"
      ],
      "metadata": {
        "colab": {
          "base_uri": "https://localhost:8080/"
        },
        "id": "Qhl5eYcyfvJQ",
        "outputId": "fbe5a58e-8bf4-4595-96da-44515eb850ee"
      },
      "execution_count": null,
      "outputs": [
        {
          "output_type": "stream",
          "name": "stdout",
          "text": [
            "<class 'pandas.core.frame.DataFrame'>\n",
            "RangeIndex: 55886 entries, 0 to 55885\n",
            "Data columns (total 5 columns):\n",
            " #   Column                      Non-Null Count  Dtype \n",
            "---  ------                      --------------  ----- \n",
            " 0   YEAR                        55886 non-null  int64 \n",
            " 1   STATE                       55886 non-null  object\n",
            " 2   TYPE OF PRODUCER            55886 non-null  object\n",
            " 3   ENERGY SOURCE               55886 non-null  object\n",
            " 4   GENERATION (Megawatthours)  55886 non-null  int64 \n",
            "dtypes: int64(2), object(3)\n",
            "memory usage: 2.1+ MB\n",
            "None\n"
          ]
        }
      ]
    },
    {
      "cell_type": "markdown",
      "source": [
        "Rename the columns names"
      ],
      "metadata": {
        "id": "Kddgi-cHSdEa"
      }
    },
    {
      "cell_type": "code",
      "source": [
        "mydata.columns = ['YEAR','STATE','PRODUCER','ENERGY','GENERATION']\n",
        "print(mydata.info())\n"
      ],
      "metadata": {
        "colab": {
          "base_uri": "https://localhost:8080/"
        },
        "id": "nUlQnBfGwiMz",
        "outputId": "51ffb2b8-488e-44a7-a5c6-f985e73f87b3"
      },
      "execution_count": null,
      "outputs": [
        {
          "output_type": "stream",
          "name": "stdout",
          "text": [
            "<class 'pandas.core.frame.DataFrame'>\n",
            "RangeIndex: 55886 entries, 0 to 55885\n",
            "Data columns (total 5 columns):\n",
            " #   Column      Non-Null Count  Dtype \n",
            "---  ------      --------------  ----- \n",
            " 0   YEAR        55886 non-null  int64 \n",
            " 1   STATE       55886 non-null  object\n",
            " 2   PRODUCER    55886 non-null  object\n",
            " 3   ENERGY      55886 non-null  object\n",
            " 4   GENERATION  55886 non-null  int64 \n",
            "dtypes: int64(2), object(3)\n",
            "memory usage: 2.1+ MB\n",
            "None\n"
          ]
        }
      ]
    },
    {
      "cell_type": "markdown",
      "source": [
        "Generates descriptive statistics"
      ],
      "metadata": {
        "id": "ccj3WP9gTzfQ"
      }
    },
    {
      "cell_type": "code",
      "source": [
        "mydata.describe()"
      ],
      "metadata": {
        "colab": {
          "base_uri": "https://localhost:8080/",
          "height": 300
        },
        "id": "ojlpi6SETyYu",
        "outputId": "c5e99925-abb8-4a3c-b3be-ef9eea667baf"
      },
      "execution_count": null,
      "outputs": [
        {
          "output_type": "execute_result",
          "data": {
            "text/plain": [
              "               YEAR    GENERATION\n",
              "count  55886.000000  5.588600e+04\n",
              "mean    2006.070733  1.686122e+07\n",
              "std        8.877047  1.305614e+08\n",
              "min     1990.000000 -8.823445e+06\n",
              "25%     1999.000000  2.623500e+04\n",
              "50%     2007.000000  3.230235e+05\n",
              "75%     2014.000000  3.388917e+06\n",
              "max     2020.000000  4.180988e+09"
            ],
            "text/html": [
              "\n",
              "  <div id=\"df-d458a2ed-3b63-436c-8cf0-3aee68ef72ad\">\n",
              "    <div class=\"colab-df-container\">\n",
              "      <div>\n",
              "<style scoped>\n",
              "    .dataframe tbody tr th:only-of-type {\n",
              "        vertical-align: middle;\n",
              "    }\n",
              "\n",
              "    .dataframe tbody tr th {\n",
              "        vertical-align: top;\n",
              "    }\n",
              "\n",
              "    .dataframe thead th {\n",
              "        text-align: right;\n",
              "    }\n",
              "</style>\n",
              "<table border=\"1\" class=\"dataframe\">\n",
              "  <thead>\n",
              "    <tr style=\"text-align: right;\">\n",
              "      <th></th>\n",
              "      <th>YEAR</th>\n",
              "      <th>GENERATION</th>\n",
              "    </tr>\n",
              "  </thead>\n",
              "  <tbody>\n",
              "    <tr>\n",
              "      <th>count</th>\n",
              "      <td>55886.000000</td>\n",
              "      <td>5.588600e+04</td>\n",
              "    </tr>\n",
              "    <tr>\n",
              "      <th>mean</th>\n",
              "      <td>2006.070733</td>\n",
              "      <td>1.686122e+07</td>\n",
              "    </tr>\n",
              "    <tr>\n",
              "      <th>std</th>\n",
              "      <td>8.877047</td>\n",
              "      <td>1.305614e+08</td>\n",
              "    </tr>\n",
              "    <tr>\n",
              "      <th>min</th>\n",
              "      <td>1990.000000</td>\n",
              "      <td>-8.823445e+06</td>\n",
              "    </tr>\n",
              "    <tr>\n",
              "      <th>25%</th>\n",
              "      <td>1999.000000</td>\n",
              "      <td>2.623500e+04</td>\n",
              "    </tr>\n",
              "    <tr>\n",
              "      <th>50%</th>\n",
              "      <td>2007.000000</td>\n",
              "      <td>3.230235e+05</td>\n",
              "    </tr>\n",
              "    <tr>\n",
              "      <th>75%</th>\n",
              "      <td>2014.000000</td>\n",
              "      <td>3.388917e+06</td>\n",
              "    </tr>\n",
              "    <tr>\n",
              "      <th>max</th>\n",
              "      <td>2020.000000</td>\n",
              "      <td>4.180988e+09</td>\n",
              "    </tr>\n",
              "  </tbody>\n",
              "</table>\n",
              "</div>\n",
              "      <button class=\"colab-df-convert\" onclick=\"convertToInteractive('df-d458a2ed-3b63-436c-8cf0-3aee68ef72ad')\"\n",
              "              title=\"Convert this dataframe to an interactive table.\"\n",
              "              style=\"display:none;\">\n",
              "        \n",
              "  <svg xmlns=\"http://www.w3.org/2000/svg\" height=\"24px\"viewBox=\"0 0 24 24\"\n",
              "       width=\"24px\">\n",
              "    <path d=\"M0 0h24v24H0V0z\" fill=\"none\"/>\n",
              "    <path d=\"M18.56 5.44l.94 2.06.94-2.06 2.06-.94-2.06-.94-.94-2.06-.94 2.06-2.06.94zm-11 1L8.5 8.5l.94-2.06 2.06-.94-2.06-.94L8.5 2.5l-.94 2.06-2.06.94zm10 10l.94 2.06.94-2.06 2.06-.94-2.06-.94-.94-2.06-.94 2.06-2.06.94z\"/><path d=\"M17.41 7.96l-1.37-1.37c-.4-.4-.92-.59-1.43-.59-.52 0-1.04.2-1.43.59L10.3 9.45l-7.72 7.72c-.78.78-.78 2.05 0 2.83L4 21.41c.39.39.9.59 1.41.59.51 0 1.02-.2 1.41-.59l7.78-7.78 2.81-2.81c.8-.78.8-2.07 0-2.86zM5.41 20L4 18.59l7.72-7.72 1.47 1.35L5.41 20z\"/>\n",
              "  </svg>\n",
              "      </button>\n",
              "      \n",
              "  <style>\n",
              "    .colab-df-container {\n",
              "      display:flex;\n",
              "      flex-wrap:wrap;\n",
              "      gap: 12px;\n",
              "    }\n",
              "\n",
              "    .colab-df-convert {\n",
              "      background-color: #E8F0FE;\n",
              "      border: none;\n",
              "      border-radius: 50%;\n",
              "      cursor: pointer;\n",
              "      display: none;\n",
              "      fill: #1967D2;\n",
              "      height: 32px;\n",
              "      padding: 0 0 0 0;\n",
              "      width: 32px;\n",
              "    }\n",
              "\n",
              "    .colab-df-convert:hover {\n",
              "      background-color: #E2EBFA;\n",
              "      box-shadow: 0px 1px 2px rgba(60, 64, 67, 0.3), 0px 1px 3px 1px rgba(60, 64, 67, 0.15);\n",
              "      fill: #174EA6;\n",
              "    }\n",
              "\n",
              "    [theme=dark] .colab-df-convert {\n",
              "      background-color: #3B4455;\n",
              "      fill: #D2E3FC;\n",
              "    }\n",
              "\n",
              "    [theme=dark] .colab-df-convert:hover {\n",
              "      background-color: #434B5C;\n",
              "      box-shadow: 0px 1px 3px 1px rgba(0, 0, 0, 0.15);\n",
              "      filter: drop-shadow(0px 1px 2px rgba(0, 0, 0, 0.3));\n",
              "      fill: #FFFFFF;\n",
              "    }\n",
              "  </style>\n",
              "\n",
              "      <script>\n",
              "        const buttonEl =\n",
              "          document.querySelector('#df-d458a2ed-3b63-436c-8cf0-3aee68ef72ad button.colab-df-convert');\n",
              "        buttonEl.style.display =\n",
              "          google.colab.kernel.accessAllowed ? 'block' : 'none';\n",
              "\n",
              "        async function convertToInteractive(key) {\n",
              "          const element = document.querySelector('#df-d458a2ed-3b63-436c-8cf0-3aee68ef72ad');\n",
              "          const dataTable =\n",
              "            await google.colab.kernel.invokeFunction('convertToInteractive',\n",
              "                                                     [key], {});\n",
              "          if (!dataTable) return;\n",
              "\n",
              "          const docLinkHtml = 'Like what you see? Visit the ' +\n",
              "            '<a target=\"_blank\" href=https://colab.research.google.com/notebooks/data_table.ipynb>data table notebook</a>'\n",
              "            + ' to learn more about interactive tables.';\n",
              "          element.innerHTML = '';\n",
              "          dataTable['output_type'] = 'display_data';\n",
              "          await google.colab.output.renderOutput(dataTable, element);\n",
              "          const docLink = document.createElement('div');\n",
              "          docLink.innerHTML = docLinkHtml;\n",
              "          element.appendChild(docLink);\n",
              "        }\n",
              "      </script>\n",
              "    </div>\n",
              "  </div>\n",
              "  "
            ]
          },
          "metadata": {},
          "execution_count": 22
        }
      ]
    },
    {
      "cell_type": "markdown",
      "source": [
        "There are 55,886 Instances.\n",
        "\n",
        "The average of generation power is 16'861,218.55\n",
        "\n",
        "The standard deviation is unusually large, the max value is 4,180'987,703\n"
      ],
      "metadata": {
        "id": "rJitbPUNUNn_"
      }
    },
    {
      "cell_type": "markdown",
      "source": [
        "Print Instances and Atributes in our dataset."
      ],
      "metadata": {
        "id": "gEZNySmBsRIN"
      }
    },
    {
      "cell_type": "code",
      "source": [
        "mydata.shape"
      ],
      "metadata": {
        "colab": {
          "base_uri": "https://localhost:8080/"
        },
        "id": "g8Ax9fmGV44P",
        "outputId": "84d3a6f5-05f5-46fa-8876-634a737ece6b"
      },
      "execution_count": null,
      "outputs": [
        {
          "output_type": "execute_result",
          "data": {
            "text/plain": [
              "(55886, 5)"
            ]
          },
          "metadata": {},
          "execution_count": 23
        }
      ]
    },
    {
      "cell_type": "markdown",
      "source": [
        "# Data Clean\n",
        "\n",
        "Lost data can happen once no data is given for some items or for an entire component. Missing data is a extremely huge problem in a real-life situations.\n",
        "\n",
        "In order to find missing values we used isna() function and sum to count the NaN values"
      ],
      "metadata": {
        "id": "k4J8iZpZskk9"
      }
    },
    {
      "cell_type": "code",
      "source": [
        "mydata.isna().sum() "
      ],
      "metadata": {
        "colab": {
          "base_uri": "https://localhost:8080/"
        },
        "id": "uSgECA0vwKAK",
        "outputId": "1ff214f8-edb7-4339-e9a9-7ea5683f1e79"
      },
      "execution_count": null,
      "outputs": [
        {
          "output_type": "execute_result",
          "data": {
            "text/plain": [
              "YEAR          0\n",
              "STATE         0\n",
              "PRODUCER      0\n",
              "ENERGY        0\n",
              "GENERATION    0\n",
              "dtype: int64"
            ]
          },
          "metadata": {},
          "execution_count": 24
        }
      ]
    },
    {
      "cell_type": "markdown",
      "source": [],
      "metadata": {
        "id": "cnwleOiat6cF"
      }
    },
    {
      "cell_type": "code",
      "source": [
        "mydata['YEAR'].value_counts()"
      ],
      "metadata": {
        "colab": {
          "base_uri": "https://localhost:8080/"
        },
        "id": "I4irHXZdMrs3",
        "outputId": "9434abbc-ebb8-4ffe-9a25-b9ad8b43d17c"
      },
      "execution_count": null,
      "outputs": [
        {
          "output_type": "execute_result",
          "data": {
            "text/plain": [
              "2020    2129\n",
              "2019    2124\n",
              "2018    2114\n",
              "2017    2095\n",
              "2016    2074\n",
              "2014    2057\n",
              "2015    2048\n",
              "2013    2020\n",
              "2012    1987\n",
              "2011    1949\n",
              "2010    1933\n",
              "2009    1891\n",
              "2008    1874\n",
              "2007    1825\n",
              "2006    1812\n",
              "2005    1799\n",
              "2004    1796\n",
              "2003    1783\n",
              "2002    1775\n",
              "2001    1713\n",
              "2000    1655\n",
              "1999    1612\n",
              "1998    1607\n",
              "1997    1590\n",
              "1996    1574\n",
              "1995    1564\n",
              "1994    1543\n",
              "1993    1521\n",
              "1992    1503\n",
              "1991    1473\n",
              "1990    1446\n",
              "Name: YEAR, dtype: int64"
            ]
          },
          "metadata": {},
          "execution_count": 25
        }
      ]
    },
    {
      "cell_type": "code",
      "source": [
        "mydata['STATE'].value_counts()"
      ],
      "metadata": {
        "colab": {
          "base_uri": "https://localhost:8080/"
        },
        "id": "M6_JGLxtt6B4",
        "outputId": "9113b7ef-ae00-4b08-e504-fa35dfdbf616"
      },
      "execution_count": null,
      "outputs": [
        {
          "output_type": "execute_result",
          "data": {
            "text/plain": [
              "CA          1813\n",
              "MI          1592\n",
              "PA          1525\n",
              "NY          1495\n",
              "US-TOTAL    1460\n",
              "NC          1401\n",
              "WI          1386\n",
              "VA          1373\n",
              "TX          1366\n",
              "WA          1356\n",
              "FL          1347\n",
              "MN          1345\n",
              "IL          1319\n",
              "MA          1315\n",
              "OH          1267\n",
              "NJ          1235\n",
              "MD          1203\n",
              "ME          1198\n",
              "SC          1194\n",
              "GA          1160\n",
              "CT          1152\n",
              "TN          1141\n",
              "CO          1138\n",
              "IA          1120\n",
              "OR          1087\n",
              "IN          1082\n",
              "MO          1068\n",
              "LA          1051\n",
              "AR          1035\n",
              "UT          1018\n",
              "HI          1017\n",
              "AL           995\n",
              "OK           994\n",
              "NH           965\n",
              "AZ           961\n",
              "WV           929\n",
              "ID           857\n",
              "MT           828\n",
              "NV           824\n",
              "AK           817\n",
              "MS           791\n",
              "NE           785\n",
              "NM           768\n",
              "VT           711\n",
              "WY           706\n",
              "DE           694\n",
              "ND           683\n",
              "KS           667\n",
              "RI           665\n",
              "US-Total     659\n",
              "KY           630\n",
              "SD           505\n",
              "DC           190\n",
              "               3\n",
              "Name: STATE, dtype: int64"
            ]
          },
          "metadata": {},
          "execution_count": 26
        }
      ]
    },
    {
      "cell_type": "code",
      "source": [
        "mydata['PRODUCER'].value_counts()"
      ],
      "metadata": {
        "colab": {
          "base_uri": "https://localhost:8080/"
        },
        "id": "irkLfFQoM5-0",
        "outputId": "74962a6e-ee22-49fa-ecd6-075072d6f1a5"
      },
      "execution_count": null,
      "outputs": [
        {
          "output_type": "execute_result",
          "data": {
            "text/plain": [
              "Total Electric Power Industry                       15350\n",
              "Electric Generators, Electric Utilities             11013\n",
              "Combined Heat and Power, Industrial Power            9308\n",
              "Electric Generators, Independent Power Producers     8943\n",
              "Combined Heat and Power, Commercial Power            5908\n",
              "Combined Heat and Power, Electric Power              5364\n",
              "Name: PRODUCER, dtype: int64"
            ]
          },
          "metadata": {},
          "execution_count": 27
        }
      ]
    },
    {
      "cell_type": "code",
      "source": [
        "mydata['ENERGY'].value_counts()"
      ],
      "metadata": {
        "colab": {
          "base_uri": "https://localhost:8080/"
        },
        "id": "vQxwxSwRNAh-",
        "outputId": "e32d7839-07a5-46ee-9b76-93808f9dc510"
      },
      "execution_count": null,
      "outputs": [
        {
          "output_type": "execute_result",
          "data": {
            "text/plain": [
              "Total                             8628\n",
              "Natural Gas                       7717\n",
              "Petroleum                         7421\n",
              "Coal                              5693\n",
              "Other Biomass                     5162\n",
              "Hydroelectric Conventional        4703\n",
              "Wood and Wood Derived Fuels       3554\n",
              "Other                             3298\n",
              "Wind                              2238\n",
              "Other Gases                       2176\n",
              "Nuclear                           2056\n",
              "Solar Thermal and Photovoltaic    1542\n",
              "Pumped Storage                    1241\n",
              "Geothermal                         457\n",
              "Name: ENERGY, dtype: int64"
            ]
          },
          "metadata": {},
          "execution_count": 28
        }
      ]
    },
    {
      "cell_type": "code",
      "source": [],
      "metadata": {
        "id": "4lRWICOWj_2y"
      },
      "execution_count": null,
      "outputs": []
    },
    {
      "cell_type": "code",
      "source": [
        "import matplotlib.pyplot as plt\n"
      ],
      "metadata": {
        "id": "ZKKrmepga7Fv"
      },
      "execution_count": null,
      "outputs": []
    },
    {
      "cell_type": "markdown",
      "source": [],
      "metadata": {
        "id": "d0RGbzuia6x6"
      }
    },
    {
      "cell_type": "code",
      "source": [
        "from sklearn.linear_model import LogisticRegression\n",
        "from sklearn.decomposition import PCA\n",
        "from sklearn.feature_selection import SelectKBest\n",
        "from pandas import read_csv\n",
        "from sklearn.model_selection import KFold\n",
        "from sklearn.model_selection import cross_val_score\n",
        "from sklearn.pipeline import Pipeline\n",
        "from sklearn.pipeline import FeatureUnion"
      ],
      "metadata": {
        "id": "4cW4by_BSSc-"
      },
      "execution_count": null,
      "outputs": []
    },
    {
      "cell_type": "markdown",
      "source": [
        "Function to calculate IOR for each numerical attribute and show skewness"
      ],
      "metadata": {
        "id": "-blP-BToWD6W"
      }
    },
    {
      "cell_type": "code",
      "source": [
        "def detection_outlier(dfcolumn):\n",
        "#Calculate Q1, Q3 and IQR\n",
        " Q1 = dfcolumn.quantile(0.25)\n",
        " Q3 = dfcolumn.quantile(0.75)\n",
        " IQR = Q3-Q1 #Interquartile range\n",
        "#In general, constant should be 1.\n",
        " lower  = Q1-1*IQR\n",
        " higher = Q3+1*IQR\n",
        "#Find number of outliers for specific column\n",
        " print('Before data preprocessing:')\n",
        " print('Skewness:',dfcolumn.skew())\n",
        " print(dfcolumn.describe())\n",
        " dfcolumn.loc[(dfcolumn> higher) | (dfcolumn< lower)]=dfcolumn.mean()\n",
        " print('After replacing outliers by mean:')\n",
        " print('Skewness:',dfcolumn.skew())\n",
        " print('Median:',dfcolumn.median())\n",
        " print('IQR value:',IQR)\n",
        " print('Lower,Higher:',lower,',',higher)\n",
        " return "
      ],
      "metadata": {
        "id": "e2BswajtWDgI"
      },
      "execution_count": null,
      "outputs": []
    },
    {
      "cell_type": "markdown",
      "source": [
        "Data Visualization and Analysis\n",
        "KDE Plot described as Kernel Density Estimate is used for visualizing the Probability Density of a continuous"
      ],
      "metadata": {
        "id": "vgpE0w0FWf48"
      }
    },
    {
      "cell_type": "code",
      "source": [
        "from pandas.plotting import scatter_matrix\n",
        "scatter_matrix(mydata, alpha=0.2, figsize=(15,15), diagonal= 'kde' )\n",
        "plt.show()\n"
      ],
      "metadata": {
        "id": "mmNSIP7hWl0B",
        "colab": {
          "base_uri": "https://localhost:8080/",
          "height": 893
        },
        "outputId": "93839c8a-c531-44f1-d9fe-71832ae49806"
      },
      "execution_count": null,
      "outputs": [
        {
          "output_type": "display_data",
          "data": {
            "text/plain": [
              "<Figure size 1080x1080 with 4 Axes>"
            ],
            "image/png": "[encoded data removed]"
          },
          "metadata": {
            "needs_background": "light"
          }
        }
      ]
    },
    {
      "cell_type": "markdown",
      "source": [
        "Relations between the numerical columns"
      ],
      "metadata": {
        "id": "dQv2qqtKWwtQ"
      }
    },
    {
      "cell_type": "code",
      "source": [
        "g = sb.PairGrid(data = mydata)\n",
        "g.map_diag(plt.hist)\n",
        "g.map_offdiag(plt.scatter);"
      ],
      "metadata": {
        "id": "Wbz6fSsYWxgW",
        "colab": {
          "base_uri": "https://localhost:8080/",
          "height": 370
        },
        "outputId": "5a69319e-5009-4194-df9d-cb44e0177f33"
      },
      "execution_count": null,
      "outputs": [
        {
          "output_type": "display_data",
          "data": {
            "text/plain": [
              "<Figure size 360x360 with 6 Axes>"
            ],
            "image/png": "[encoded data removed]"
          },
          "metadata": {
            "needs_background": "light"
          }
        }
      ]
    },
    {
      "cell_type": "markdown",
      "source": [
        "Function definitions\n",
        "Function for checking for outliers in the numeric value columns"
      ],
      "metadata": {
        "id": "ekCPa__WZE0s"
      }
    },
    {
      "cell_type": "code",
      "source": [
        "def outlier(var):\n",
        "    high = np.mean(var) + 2*np.std(var)\n",
        "    low = np.mean(var) - 2*np.std(var)\n",
        "    outliers = (var >= high) | (var <= low)\n",
        "    return outliers\n"
      ],
      "metadata": {
        "id": "Atk-1GAkXQRQ"
      },
      "execution_count": null,
      "outputs": []
    },
    {
      "cell_type": "markdown",
      "source": [
        "Function to bin numerical columns"
      ],
      "metadata": {
        "id": "0g57cERkXtJE"
      }
    },
    {
      "cell_type": "code",
      "source": [
        "def bins(x, n): \n",
        "    BinWidth = (max(x) - min(x))/n\n",
        "    bound1 = float('-inf')\n",
        "    bound2 = min(x) + 1 * BinWidth\n",
        "    bound3 = min(x) + 2 * BinWidth\n",
        "    bound4 = float('inf')\n",
        "    Binned = np.array([\" \"]*len(x)) \n",
        "    Binned[(bound1 < x) & (x <= bound2)] = 1 # Low\n",
        "    Binned[(bound2 < x) & (x <= bound3)] = 2 # Med\n",
        "    Binned[(bound3 < x) & (x  < bound4)] = 3 # High\n",
        "    return Binned"
      ],
      "metadata": {
        "id": "86-GHy0bXtod"
      },
      "execution_count": null,
      "outputs": []
    },
    {
      "cell_type": "markdown",
      "source": [
        "Function for z-standardization of a numerical column"
      ],
      "metadata": {
        "id": "ExpD_qx2X8tc"
      }
    },
    {
      "cell_type": "code",
      "source": [
        "def norm(col): \n",
        "    x = np.array(col).astype(float)\n",
        "    X = pd.DataFrame(x) \n",
        "    y = StandardScaler().fit(X).transform(X)\n",
        "    return y"
      ],
      "metadata": {
        "id": "lsCq6YGjXsmi"
      },
      "execution_count": null,
      "outputs": []
    },
    {
      "cell_type": "markdown",
      "source": [
        "Remove/replace outliers for the numerical columns.\n",
        "Replace outliers with median values for the numerical column, 'GENERATION'."
      ],
      "metadata": {
        "id": "D1KY2-i_XsVy"
      }
    },
    {
      "cell_type": "code",
      "source": [
        "outliers = outlier(mydata['GENERATION'])\n",
        "mydata.loc[outliers, 'GENERATION'] = np.median(mydata.loc[:,\"GENERATION\"])\n",
        "\n",
        "print(mydata)"
      ],
      "metadata": {
        "id": "ml5ejICUXr0z",
        "colab": {
          "base_uri": "https://localhost:8080/"
        },
        "outputId": "352ab230-d8ab-4aa2-985f-75864760c6e5"
      },
      "execution_count": null,
      "outputs": [
        {
          "output_type": "stream",
          "name": "stdout",
          "text": [
            "       YEAR     STATE                                 PRODUCER  \\\n",
            "0      2001  US-TOTAL            Total Electric Power Industry   \n",
            "1      2002  US-TOTAL            Total Electric Power Industry   \n",
            "2      2003  US-TOTAL            Total Electric Power Industry   \n",
            "3      2004  US-TOTAL            Total Electric Power Industry   \n",
            "4      2001  US-TOTAL  Electric Generators, Electric Utilities   \n",
            "...     ...       ...                                      ...   \n",
            "55881  2008  US-TOTAL            Total Electric Power Industry   \n",
            "55882  2010  US-TOTAL            Total Electric Power Industry   \n",
            "55883  2019  US-Total            Total Electric Power Industry   \n",
            "55884  2007  US-TOTAL            Total Electric Power Industry   \n",
            "55885  2018  US-Total            Total Electric Power Industry   \n",
            "\n",
            "               ENERGY  GENERATION  \n",
            "0      Pumped Storage  -8823445.0  \n",
            "1      Pumped Storage  -8742928.0  \n",
            "2      Pumped Storage  -8535065.0  \n",
            "3      Pumped Storage  -8488210.0  \n",
            "4      Pumped Storage  -7704482.0  \n",
            "...               ...         ...  \n",
            "55881           Total    323023.5  \n",
            "55882           Total    323023.5  \n",
            "55883           Total    323023.5  \n",
            "55884           Total    323023.5  \n",
            "55885           Total    323023.5  \n",
            "\n",
            "[55886 rows x 5 columns]\n"
          ]
        }
      ]
    },
    {
      "cell_type": "markdown",
      "source": [
        "# Data Visualisation and Analysis"
      ],
      "metadata": {
        "id": "d1RWqtoNV8s2"
      }
    },
    {
      "cell_type": "code",
      "source": [
        "plt.style.use('fivethirtyeight')\n",
        "mydata['GENERATION'].hist()\n",
        "plt.xlabel('GENERATION')\n",
        "plt.ylabel('COUNT')\n",
        "plt.title('GENERATION v/s COUNT')"
      ],
      "metadata": {
        "id": "0omg9r3dV8B4",
        "colab": {
          "base_uri": "https://localhost:8080/",
          "height": 339
        },
        "outputId": "bc61528d-2a02-4829-ee7d-9ae3aee2a7df"
      },
      "execution_count": null,
      "outputs": [
        {
          "output_type": "execute_result",
          "data": {
            "text/plain": [
              "Text(0.5, 1.0, 'GENERATION v/s COUNT')"
            ]
          },
          "metadata": {},
          "execution_count": 38
        },
        {
          "output_type": "display_data",
          "data": {
            "text/plain": [
              "<Figure size 432x288 with 1 Axes>"
            ],
            "image/png": "[encoded data removed]"
          },
          "metadata": {}
        }
      ]
    },
    {
      "cell_type": "code",
      "source": [],
      "metadata": {
        "id": "7VMo6dyJWrEI"
      },
      "execution_count": null,
      "outputs": []
    },
    {
      "cell_type": "markdown",
      "source": [],
      "metadata": {
        "id": "PIzIj4zoWqza"
      }
    },
    {
      "cell_type": "markdown",
      "source": [
        "Normalize values for the numerical columns by z-standardization\n",
        "\n",
        "Normalize the GENERATION column; plot the normalized GENERATION data."
      ],
      "metadata": {
        "id": "dceTfbkAYcbB"
      }
    },
    {
      "cell_type": "code",
      "source": [
        "col = mydata[\"GENERATION\"]\n",
        "mydata[\"GENERATION\"] = norm(col)\n",
        "print(mydata)"
      ],
      "metadata": {
        "id": "b6EyAgUtYdUM",
        "colab": {
          "base_uri": "https://localhost:8080/"
        },
        "outputId": "604ea5be-da0c-47b8-dca6-90ab91ee2996"
      },
      "execution_count": null,
      "outputs": [
        {
          "output_type": "stream",
          "name": "stdout",
          "text": [
            "       YEAR     STATE                                 PRODUCER  \\\n",
            "0      2001  US-TOTAL            Total Electric Power Industry   \n",
            "1      2002  US-TOTAL            Total Electric Power Industry   \n",
            "2      2003  US-TOTAL            Total Electric Power Industry   \n",
            "3      2004  US-TOTAL            Total Electric Power Industry   \n",
            "4      2001  US-TOTAL  Electric Generators, Electric Utilities   \n",
            "...     ...       ...                                      ...   \n",
            "55881  2008  US-TOTAL            Total Electric Power Industry   \n",
            "55882  2010  US-TOTAL            Total Electric Power Industry   \n",
            "55883  2019  US-Total            Total Electric Power Industry   \n",
            "55884  2007  US-TOTAL            Total Electric Power Industry   \n",
            "55885  2018  US-Total            Total Electric Power Industry   \n",
            "\n",
            "               ENERGY  GENERATION  \n",
            "0      Pumped Storage   -0.695133  \n",
            "1      Pumped Storage   -0.692001  \n",
            "2      Pumped Storage   -0.683913  \n",
            "3      Pumped Storage   -0.682090  \n",
            "4      Pumped Storage   -0.651597  \n",
            "...               ...         ...  \n",
            "55881           Total   -0.339267  \n",
            "55882           Total   -0.339267  \n",
            "55883           Total   -0.339267  \n",
            "55884           Total   -0.339267  \n",
            "55885           Total   -0.339267  \n",
            "\n",
            "[55886 rows x 5 columns]\n"
          ]
        }
      ]
    },
    {
      "cell_type": "markdown",
      "source": [
        "Spiliting Dataset into training(75%) and test set(25%)"
      ],
      "metadata": {
        "id": "Zyb9maawuRpX"
      }
    },
    {
      "cell_type": "code",
      "source": [
        "X = mydata.iloc[:,:-1].values\n",
        "y = mydata.iloc[:,-1].values\n",
        "\n",
        "from sklearn.model_selection import train_test_split\n",
        "X_train,X_test,y_train,y_test = train_test_split(X,y,test_size = 0.25,random_state = 1)\n",
        "\n",
        "X_train.shape"
      ],
      "metadata": {
        "id": "0di6-hjH3JwM",
        "colab": {
          "base_uri": "https://localhost:8080/"
        },
        "outputId": "5613fabc-b930-40bc-d08a-2742ea79d006"
      },
      "execution_count": null,
      "outputs": [
        {
          "output_type": "execute_result",
          "data": {
            "text/plain": [
              "(41914, 4)"
            ]
          },
          "metadata": {},
          "execution_count": 40
        }
      ]
    },
    {
      "cell_type": "code",
      "source": [
        "print(X_train)"
      ],
      "metadata": {
        "id": "-3_kNmr0ICsg",
        "colab": {
          "base_uri": "https://localhost:8080/"
        },
        "outputId": "87dc7566-b98b-43cd-8b4e-421e9b6eada2"
      },
      "execution_count": null,
      "outputs": [
        {
          "output_type": "stream",
          "name": "stdout",
          "text": [
            "[[1993 'PA' 'Electric Generators, Independent Power Producers'\n",
            "  'Other Biomass']\n",
            " [2003 'AL' 'Combined Heat and Power, Industrial Power' 'Coal']\n",
            " [2003 'US-TOTAL' 'Combined Heat and Power, Electric Power' 'Natural Gas']\n",
            " ...\n",
            " [2010 'SC' 'Combined Heat and Power, Commercial Power' 'Petroleum']\n",
            " [2012 'NJ' 'Electric Generators, Independent Power Producers'\n",
            "  'Petroleum']\n",
            " [2005 'CO' 'Electric Generators, Independent Power Producers' 'Wind']]\n"
          ]
        }
      ]
    },
    {
      "cell_type": "code",
      "source": [
        "X_test.shape"
      ],
      "metadata": {
        "id": "QPGoCsy76MTO",
        "colab": {
          "base_uri": "https://localhost:8080/"
        },
        "outputId": "c4d25544-e3bb-459c-eede-cee831cfb2cc"
      },
      "execution_count": null,
      "outputs": [
        {
          "output_type": "execute_result",
          "data": {
            "text/plain": [
              "(13972, 4)"
            ]
          },
          "metadata": {},
          "execution_count": 42
        }
      ]
    },
    {
      "cell_type": "code",
      "source": [
        "print(X_test)"
      ],
      "metadata": {
        "id": "yHXKhuuK6q75",
        "colab": {
          "base_uri": "https://localhost:8080/"
        },
        "outputId": "f717e973-4129-4430-8d34-ed8be88d3949"
      },
      "execution_count": null,
      "outputs": [
        {
          "output_type": "stream",
          "name": "stdout",
          "text": [
            "[[1993 'MT' 'Electric Generators, Independent Power Producers'\n",
            "  'Hydroelectric Conventional']\n",
            " [2006 'NY' 'Combined Heat and Power, Commercial Power' 'Total']\n",
            " [2003 'UT' 'Electric Generators, Electric Utilities' 'Geothermal']\n",
            " ...\n",
            " [2010 'MO' 'Total Electric Power Industry' 'Total']\n",
            " [1999 'MI' 'Combined Heat and Power, Industrial Power' 'Total']\n",
            " [2017 'DE' 'Total Electric Power Industry' 'Other Biomass']]\n"
          ]
        }
      ]
    },
    {
      "cell_type": "code",
      "source": [
        "y_test.shape"
      ],
      "metadata": {
        "id": "rrnoeFNICNfi",
        "colab": {
          "base_uri": "https://localhost:8080/"
        },
        "outputId": "a28a428c-bd28-4ac5-cde3-d153130224db"
      },
      "execution_count": null,
      "outputs": [
        {
          "output_type": "execute_result",
          "data": {
            "text/plain": [
              "(13972,)"
            ]
          },
          "metadata": {},
          "execution_count": 44
        }
      ]
    },
    {
      "cell_type": "code",
      "source": [
        "print(y_test)"
      ],
      "metadata": {
        "id": "VDXfDA_ACCPV",
        "colab": {
          "base_uri": "https://localhost:8080/"
        },
        "outputId": "99fde2c5-08a3-49b8-bea6-bf9528b8e569"
      },
      "execution_count": null,
      "outputs": [
        {
          "output_type": "stream",
          "name": "stdout",
          "text": [
            "[-0.34931676 -0.32354539 -0.34411323 ...  3.23983445 -0.27876794\n",
            " -0.34939104]\n"
          ]
        }
      ]
    },
    {
      "cell_type": "code",
      "source": [],
      "metadata": {
        "id": "uOz1qXeeITVR"
      },
      "execution_count": null,
      "outputs": []
    },
    {
      "cell_type": "code",
      "source": [
        "y_train.shape\n"
      ],
      "metadata": {
        "id": "5HnohxbUCWXS",
        "colab": {
          "base_uri": "https://localhost:8080/"
        },
        "outputId": "2e97e5d3-8329-4526-96da-a7a18f3d4d57"
      },
      "execution_count": null,
      "outputs": [
        {
          "output_type": "execute_result",
          "data": {
            "text/plain": [
              "(41914,)"
            ]
          },
          "metadata": {},
          "execution_count": 46
        }
      ]
    },
    {
      "cell_type": "code",
      "source": [
        "print(y_train)"
      ],
      "metadata": {
        "id": "ZK0DAGKWIenJ",
        "colab": {
          "base_uri": "https://localhost:8080/"
        },
        "outputId": "d1e4a944-1b1c-4908-e385-4e14fac04f4e"
      },
      "execution_count": null,
      "outputs": [
        {
          "output_type": "stream",
          "name": "stdout",
          "text": [
            "[-0.30704522 -0.34256339  5.33241958 ... -0.35180902 -0.35117771\n",
            " -0.32390688]\n"
          ]
        }
      ]
    },
    {
      "cell_type": "markdown",
      "source": [
        "Applying Machine Learning Algorithm for Classification Problem\n",
        "Logistic Regression\n",
        "In Logistic Regression, we wish to model a dependent variable(Y) in terms of one or more independent variables(X). It is a method for classification. This algorithm is used for the dependent variable that is Categorical. Y is modeled using a function that gives output between 0 and 1 for all values of X. In Logistic Regression, the Sigmoid (aka Logistic) Function is used"
      ],
      "metadata": {
        "id": "8F84NH6vDZEU"
      }
    },
    {
      "cell_type": "code",
      "source": [
        "#from sklearn.linear_model import LogisticRegression\n",
        "#logmodel = LogisticRegression(random_state=1)\n",
        "#logmodel.fit(X_train,y_train)\n"
      ],
      "metadata": {
        "id": "dWBqZzMwDYRm",
        "colab": {
          "base_uri": "https://localhost:8080/",
          "height": 373
        },
        "outputId": "07aa26ee-3464-4698-8786-60b9ff367138"
      },
      "execution_count": null,
      "outputs": [
        {
          "output_type": "error",
          "ename": "ValueError",
          "evalue": "ignored",
          "traceback": [
            "\u001b[0;31m---------------------------------------------------------------------------\u001b[0m",
            "\u001b[0;31mValueError\u001b[0m                                Traceback (most recent call last)",
            "\u001b[0;32m<ipython-input-48-0e094c927593>\u001b[0m in \u001b[0;36m<module>\u001b[0;34m\u001b[0m\n\u001b[1;32m      1\u001b[0m \u001b[0;32mfrom\u001b[0m \u001b[0msklearn\u001b[0m\u001b[0;34m.\u001b[0m\u001b[0mlinear_model\u001b[0m \u001b[0;32mimport\u001b[0m \u001b[0mLogisticRegression\u001b[0m\u001b[0;34m\u001b[0m\u001b[0;34m\u001b[0m\u001b[0m\n\u001b[1;32m      2\u001b[0m \u001b[0mlogmodel\u001b[0m \u001b[0;34m=\u001b[0m \u001b[0mLogisticRegression\u001b[0m\u001b[0;34m(\u001b[0m\u001b[0mrandom_state\u001b[0m\u001b[0;34m=\u001b[0m\u001b[0;36m1\u001b[0m\u001b[0;34m)\u001b[0m\u001b[0;34m\u001b[0m\u001b[0;34m\u001b[0m\u001b[0m\n\u001b[0;32m----> 3\u001b[0;31m \u001b[0mlogmodel\u001b[0m\u001b[0;34m.\u001b[0m\u001b[0mfit\u001b[0m\u001b[0;34m(\u001b[0m\u001b[0mX_train\u001b[0m\u001b[0;34m,\u001b[0m\u001b[0my_train\u001b[0m\u001b[0;34m)\u001b[0m\u001b[0;34m\u001b[0m\u001b[0;34m\u001b[0m\u001b[0m\n\u001b[0m",
            "\u001b[0;32m/usr/local/lib/python3.7/dist-packages/sklearn/linear_model/_logistic.py\u001b[0m in \u001b[0;36mfit\u001b[0;34m(self, X, y, sample_weight)\u001b[0m\n\u001b[1;32m   1512\u001b[0m             \u001b[0mdtype\u001b[0m\u001b[0;34m=\u001b[0m\u001b[0m_dtype\u001b[0m\u001b[0;34m,\u001b[0m\u001b[0;34m\u001b[0m\u001b[0;34m\u001b[0m\u001b[0m\n\u001b[1;32m   1513\u001b[0m             \u001b[0morder\u001b[0m\u001b[0;34m=\u001b[0m\u001b[0;34m\"C\"\u001b[0m\u001b[0;34m,\u001b[0m\u001b[0;34m\u001b[0m\u001b[0;34m\u001b[0m\u001b[0m\n\u001b[0;32m-> 1514\u001b[0;31m             \u001b[0maccept_large_sparse\u001b[0m\u001b[0;34m=\u001b[0m\u001b[0msolver\u001b[0m \u001b[0;32mnot\u001b[0m \u001b[0;32min\u001b[0m \u001b[0;34m[\u001b[0m\u001b[0;34m\"liblinear\"\u001b[0m\u001b[0;34m,\u001b[0m \u001b[0;34m\"sag\"\u001b[0m\u001b[0;34m,\u001b[0m \u001b[0;34m\"saga\"\u001b[0m\u001b[0;34m]\u001b[0m\u001b[0;34m,\u001b[0m\u001b[0;34m\u001b[0m\u001b[0;34m\u001b[0m\u001b[0m\n\u001b[0m\u001b[1;32m   1515\u001b[0m         )\n\u001b[1;32m   1516\u001b[0m         \u001b[0mcheck_classification_targets\u001b[0m\u001b[0;34m(\u001b[0m\u001b[0my\u001b[0m\u001b[0;34m)\u001b[0m\u001b[0;34m\u001b[0m\u001b[0;34m\u001b[0m\u001b[0m\n",
            "\u001b[0;32m/usr/local/lib/python3.7/dist-packages/sklearn/base.py\u001b[0m in \u001b[0;36m_validate_data\u001b[0;34m(self, X, y, reset, validate_separately, **check_params)\u001b[0m\n\u001b[1;32m    579\u001b[0m                 \u001b[0my\u001b[0m \u001b[0;34m=\u001b[0m \u001b[0mcheck_array\u001b[0m\u001b[0;34m(\u001b[0m\u001b[0my\u001b[0m\u001b[0;34m,\u001b[0m \u001b[0;34m**\u001b[0m\u001b[0mcheck_y_params\u001b[0m\u001b[0;34m)\u001b[0m\u001b[0;34m\u001b[0m\u001b[0;34m\u001b[0m\u001b[0m\n\u001b[1;32m    580\u001b[0m             \u001b[0;32melse\u001b[0m\u001b[0;34m:\u001b[0m\u001b[0;34m\u001b[0m\u001b[0;34m\u001b[0m\u001b[0m\n\u001b[0;32m--> 581\u001b[0;31m                 \u001b[0mX\u001b[0m\u001b[0;34m,\u001b[0m \u001b[0my\u001b[0m \u001b[0;34m=\u001b[0m \u001b[0mcheck_X_y\u001b[0m\u001b[0;34m(\u001b[0m\u001b[0mX\u001b[0m\u001b[0;34m,\u001b[0m \u001b[0my\u001b[0m\u001b[0;34m,\u001b[0m \u001b[0;34m**\u001b[0m\u001b[0mcheck_params\u001b[0m\u001b[0;34m)\u001b[0m\u001b[0;34m\u001b[0m\u001b[0;34m\u001b[0m\u001b[0m\n\u001b[0m\u001b[1;32m    582\u001b[0m             \u001b[0mout\u001b[0m \u001b[0;34m=\u001b[0m \u001b[0mX\u001b[0m\u001b[0;34m,\u001b[0m \u001b[0my\u001b[0m\u001b[0;34m\u001b[0m\u001b[0;34m\u001b[0m\u001b[0m\n\u001b[1;32m    583\u001b[0m \u001b[0;34m\u001b[0m\u001b[0m\n",
            "\u001b[0;32m/usr/local/lib/python3.7/dist-packages/sklearn/utils/validation.py\u001b[0m in \u001b[0;36mcheck_X_y\u001b[0;34m(X, y, accept_sparse, accept_large_sparse, dtype, order, copy, force_all_finite, ensure_2d, allow_nd, multi_output, ensure_min_samples, ensure_min_features, y_numeric, estimator)\u001b[0m\n\u001b[1;32m    974\u001b[0m         \u001b[0mensure_min_samples\u001b[0m\u001b[0;34m=\u001b[0m\u001b[0mensure_min_samples\u001b[0m\u001b[0;34m,\u001b[0m\u001b[0;34m\u001b[0m\u001b[0;34m\u001b[0m\u001b[0m\n\u001b[1;32m    975\u001b[0m         \u001b[0mensure_min_features\u001b[0m\u001b[0;34m=\u001b[0m\u001b[0mensure_min_features\u001b[0m\u001b[0;34m,\u001b[0m\u001b[0;34m\u001b[0m\u001b[0;34m\u001b[0m\u001b[0m\n\u001b[0;32m--> 976\u001b[0;31m         \u001b[0mestimator\u001b[0m\u001b[0;34m=\u001b[0m\u001b[0mestimator\u001b[0m\u001b[0;34m,\u001b[0m\u001b[0;34m\u001b[0m\u001b[0;34m\u001b[0m\u001b[0m\n\u001b[0m\u001b[1;32m    977\u001b[0m     )\n\u001b[1;32m    978\u001b[0m \u001b[0;34m\u001b[0m\u001b[0m\n",
            "\u001b[0;32m/usr/local/lib/python3.7/dist-packages/sklearn/utils/validation.py\u001b[0m in \u001b[0;36mcheck_array\u001b[0;34m(array, accept_sparse, accept_large_sparse, dtype, order, copy, force_all_finite, ensure_2d, allow_nd, ensure_min_samples, ensure_min_features, estimator)\u001b[0m\n\u001b[1;32m    744\u001b[0m                     \u001b[0marray\u001b[0m \u001b[0;34m=\u001b[0m \u001b[0marray\u001b[0m\u001b[0;34m.\u001b[0m\u001b[0mastype\u001b[0m\u001b[0;34m(\u001b[0m\u001b[0mdtype\u001b[0m\u001b[0;34m,\u001b[0m \u001b[0mcasting\u001b[0m\u001b[0;34m=\u001b[0m\u001b[0;34m\"unsafe\"\u001b[0m\u001b[0;34m,\u001b[0m \u001b[0mcopy\u001b[0m\u001b[0;34m=\u001b[0m\u001b[0;32mFalse\u001b[0m\u001b[0;34m)\u001b[0m\u001b[0;34m\u001b[0m\u001b[0;34m\u001b[0m\u001b[0m\n\u001b[1;32m    745\u001b[0m                 \u001b[0;32melse\u001b[0m\u001b[0;34m:\u001b[0m\u001b[0;34m\u001b[0m\u001b[0;34m\u001b[0m\u001b[0m\n\u001b[0;32m--> 746\u001b[0;31m                     \u001b[0marray\u001b[0m \u001b[0;34m=\u001b[0m \u001b[0mnp\u001b[0m\u001b[0;34m.\u001b[0m\u001b[0masarray\u001b[0m\u001b[0;34m(\u001b[0m\u001b[0marray\u001b[0m\u001b[0;34m,\u001b[0m \u001b[0morder\u001b[0m\u001b[0;34m=\u001b[0m\u001b[0morder\u001b[0m\u001b[0;34m,\u001b[0m \u001b[0mdtype\u001b[0m\u001b[0;34m=\u001b[0m\u001b[0mdtype\u001b[0m\u001b[0;34m)\u001b[0m\u001b[0;34m\u001b[0m\u001b[0;34m\u001b[0m\u001b[0m\n\u001b[0m\u001b[1;32m    747\u001b[0m             \u001b[0;32mexcept\u001b[0m \u001b[0mComplexWarning\u001b[0m \u001b[0;32mas\u001b[0m \u001b[0mcomplex_warning\u001b[0m\u001b[0;34m:\u001b[0m\u001b[0;34m\u001b[0m\u001b[0;34m\u001b[0m\u001b[0m\n\u001b[1;32m    748\u001b[0m                 raise ValueError(\n",
            "\u001b[0;31mValueError\u001b[0m: could not convert string to float: 'PA'"
          ]
        }
      ]
    }
  ]
}